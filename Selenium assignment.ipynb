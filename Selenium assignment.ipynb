{
 "cells": [
  {
   "cell_type": "code",
   "execution_count": 46,
   "id": "d8112384",
   "metadata": {},
   "outputs": [
    {
     "name": "stdout",
     "output_type": "stream",
     "text": [
      "Requirement already satisfied: Selenium in c:\\users\\dell\\appdata\\local\\anaconda3\\lib\\site-packages (4.15.1)\n",
      "Requirement already satisfied: trio-websocket~=0.9 in c:\\users\\dell\\appdata\\local\\anaconda3\\lib\\site-packages (from Selenium) (0.11.1)\n",
      "Requirement already satisfied: urllib3[socks]<3,>=1.26 in c:\\users\\dell\\appdata\\local\\anaconda3\\lib\\site-packages (from Selenium) (1.26.14)\n",
      "Requirement already satisfied: trio~=0.17 in c:\\users\\dell\\appdata\\local\\anaconda3\\lib\\site-packages (from Selenium) (0.23.0)\n",
      "Requirement already satisfied: certifi>=2021.10.8 in c:\\users\\dell\\appdata\\local\\anaconda3\\lib\\site-packages (from Selenium) (2022.12.7)\n",
      "Requirement already satisfied: outcome in c:\\users\\dell\\appdata\\local\\anaconda3\\lib\\site-packages (from trio~=0.17->Selenium) (1.3.0.post0)\n",
      "Requirement already satisfied: sniffio>=1.3.0 in c:\\users\\dell\\appdata\\local\\anaconda3\\lib\\site-packages (from trio~=0.17->Selenium) (1.3.0)\n",
      "Requirement already satisfied: attrs>=20.1.0 in c:\\users\\dell\\appdata\\local\\anaconda3\\lib\\site-packages (from trio~=0.17->Selenium) (22.1.0)\n",
      "Requirement already satisfied: exceptiongroup>=1.0.0rc9 in c:\\users\\dell\\appdata\\local\\anaconda3\\lib\\site-packages (from trio~=0.17->Selenium) (1.1.3)\n",
      "Requirement already satisfied: sortedcontainers in c:\\users\\dell\\appdata\\local\\anaconda3\\lib\\site-packages (from trio~=0.17->Selenium) (2.4.0)\n",
      "Requirement already satisfied: cffi>=1.14 in c:\\users\\dell\\appdata\\local\\anaconda3\\lib\\site-packages (from trio~=0.17->Selenium) (1.15.1)\n",
      "Requirement already satisfied: idna in c:\\users\\dell\\appdata\\local\\anaconda3\\lib\\site-packages (from trio~=0.17->Selenium) (3.4)\n",
      "Requirement already satisfied: wsproto>=0.14 in c:\\users\\dell\\appdata\\local\\anaconda3\\lib\\site-packages (from trio-websocket~=0.9->Selenium) (1.2.0)\n",
      "Requirement already satisfied: PySocks!=1.5.7,<2.0,>=1.5.6 in c:\\users\\dell\\appdata\\local\\anaconda3\\lib\\site-packages (from urllib3[socks]<3,>=1.26->Selenium) (1.7.1)\n",
      "Requirement already satisfied: pycparser in c:\\users\\dell\\appdata\\local\\anaconda3\\lib\\site-packages (from cffi>=1.14->trio~=0.17->Selenium) (2.21)\n",
      "Requirement already satisfied: h11<1,>=0.9.0 in c:\\users\\dell\\appdata\\local\\anaconda3\\lib\\site-packages (from wsproto>=0.14->trio-websocket~=0.9->Selenium) (0.14.0)\n"
     ]
    }
   ],
   "source": [
    "! pip install Selenium"
   ]
  },
  {
   "cell_type": "code",
   "execution_count": 47,
   "id": "6645cd7b",
   "metadata": {},
   "outputs": [],
   "source": [
    "#1\n",
    "import selenium\n",
    "from selenium import webdriver \n",
    "import pandas as pd \n",
    "from selenium.webdriver.common.by import By \n",
    "import warnings\n",
    "warnings.filterwarnings(\"ignore\")\n",
    "import time "
   ]
  },
  {
   "cell_type": "code",
   "execution_count": 48,
   "id": "0e987373",
   "metadata": {},
   "outputs": [],
   "source": [
    "driver = webdriver.Chrome()"
   ]
  },
  {
   "cell_type": "code",
   "execution_count": 49,
   "id": "b68e13e5",
   "metadata": {},
   "outputs": [],
   "source": [
    "driver.get(\"https://www.shine.com/\")"
   ]
  },
  {
   "cell_type": "code",
   "execution_count": 52,
   "id": "1e17763b",
   "metadata": {},
   "outputs": [],
   "source": [
    "designation = driver.find_element(By.CLASS_NAME,\"form-control  \")\n",
    "designation.send_keys(\"Data Analyst\")"
   ]
  },
  {
   "cell_type": "code",
   "execution_count": 53,
   "id": "10fb2759",
   "metadata": {},
   "outputs": [],
   "source": [
    "location = driver.find_element(By.XPATH,\"/html/body/div/div[4]/div/div[2]/div[2]/div/form/div/div[1]/ul/li[2]/div/input\")\n",
    "location.send_keys(\"Bangalore\")"
   ]
  },
  {
   "cell_type": "code",
   "execution_count": 54,
   "id": "f2461b2b",
   "metadata": {},
   "outputs": [],
   "source": [
    "search = driver.find_element(By.XPATH,\"/html/body/div/div[4]/div/div[2]/div[2]/div/form/div/div[2]/div/button\")\n",
    "search.click()"
   ]
  },
  {
   "cell_type": "code",
   "execution_count": 55,
   "id": "0e8c9ea3",
   "metadata": {},
   "outputs": [],
   "source": [
    "job_title = []\n",
    "job_location = []\n",
    "company_name = []\n",
    "experience_required = []"
   ]
  },
  {
   "cell_type": "code",
   "execution_count": 56,
   "id": "b2d2e84f",
   "metadata": {},
   "outputs": [],
   "source": [
    "job_title = []\n",
    "jobtitle = driver.find_elements(By.TAG_NAME,\"h2\")\n",
    "for i in jobtitle[:10]:\n",
    "    job_title.append(i.text)"
   ]
  },
  {
   "cell_type": "code",
   "execution_count": 57,
   "id": "743c62e5",
   "metadata": {},
   "outputs": [],
   "source": [
    "job_location = [] \n",
    "a = driver.find_elements(By.XPATH, '//div[@class=\"jobCard_jobCard_lists__fdnsc\"]/div[2]')\n",
    "for i in a[:10]:\n",
    "    b = i.text.split(\"\\n\")[0]\n",
    "    job_location.append(b)\n",
    "    "
   ]
  },
  {
   "cell_type": "code",
   "execution_count": 65,
   "id": "6ba825a7",
   "metadata": {},
   "outputs": [],
   "source": [
    "company_name = [] \n",
    "a = driver.find_elements(By.XPATH,'//div[@class=\"jobCard_jobCard_cName__mYnow\"]/span') \n",
    "for i in a[:10]:\n",
    "    b = i.text.split(\"\\n\")[0]\n",
    "    company_name.append(b)\n",
    "    \n",
    "\n"
   ]
  },
  {
   "cell_type": "code",
   "execution_count": 67,
   "id": "6065020f",
   "metadata": {},
   "outputs": [],
   "source": [
    "experience_required = [] \n",
    "a = driver.find_elements(By.XPATH,'//div[@class=\"jobCard_jobCard_lists__fdnsc\"]/div[1]') \n",
    "for i in a[:10]:\n",
    "    b = i.text.split(\"\\n\")[0]\n",
    "    experience_required.append(b) \n"
   ]
  },
  {
   "cell_type": "code",
   "execution_count": 68,
   "id": "6b06f566",
   "metadata": {},
   "outputs": [
    {
     "name": "stdout",
     "output_type": "stream",
     "text": [
      "10 10 10 10\n"
     ]
    }
   ],
   "source": [
    "print(len(job_title), len(job_location), len(company_name), len(experience_required))"
   ]
  },
  {
   "cell_type": "code",
   "execution_count": 69,
   "id": "5e1bba79",
   "metadata": {},
   "outputs": [
    {
     "data": {
      "text/html": [
       "<div>\n",
       "<style scoped>\n",
       "    .dataframe tbody tr th:only-of-type {\n",
       "        vertical-align: middle;\n",
       "    }\n",
       "\n",
       "    .dataframe tbody tr th {\n",
       "        vertical-align: top;\n",
       "    }\n",
       "\n",
       "    .dataframe thead th {\n",
       "        text-align: right;\n",
       "    }\n",
       "</style>\n",
       "<table border=\"1\" class=\"dataframe\">\n",
       "  <thead>\n",
       "    <tr style=\"text-align: right;\">\n",
       "      <th></th>\n",
       "      <th>Job Title</th>\n",
       "      <th>Job Location</th>\n",
       "      <th>Company</th>\n",
       "      <th>Experience Required</th>\n",
       "    </tr>\n",
       "  </thead>\n",
       "  <tbody>\n",
       "    <tr>\n",
       "      <th>0</th>\n",
       "      <td>Computer Systems Analyst</td>\n",
       "      <td>Bangalore</td>\n",
       "      <td>v-tech data outsourcing</td>\n",
       "      <td>0 to 2 Yrs</td>\n",
       "    </tr>\n",
       "    <tr>\n",
       "      <th>1</th>\n",
       "      <td>Full time opportunity for Business Process &amp; S...</td>\n",
       "      <td>Bangalore</td>\n",
       "      <td>ntt data information processing ser...</td>\n",
       "      <td>3 to 8 Yrs</td>\n",
       "    </tr>\n",
       "    <tr>\n",
       "      <th>2</th>\n",
       "      <td>Data Management Analyst</td>\n",
       "      <td>Bangalore</td>\n",
       "      <td>v-tech data outsourcing</td>\n",
       "      <td>0 to 2 Yrs</td>\n",
       "    </tr>\n",
       "    <tr>\n",
       "      <th>3</th>\n",
       "      <td>Data Entry Operator,Computer Typist</td>\n",
       "      <td>Bangalore</td>\n",
       "      <td>ur infotech hiring for data entry</td>\n",
       "      <td>1 to 6 Yrs</td>\n",
       "    </tr>\n",
       "    <tr>\n",
       "      <th>4</th>\n",
       "      <td>System Administration Analyst</td>\n",
       "      <td>Bangalore</td>\n",
       "      <td>ntt data information processing ser...</td>\n",
       "      <td>3 to 6 Yrs</td>\n",
       "    </tr>\n",
       "    <tr>\n",
       "      <th>5</th>\n",
       "      <td>Data Analyst Vacancy</td>\n",
       "      <td>Bangalore</td>\n",
       "      <td>divya interprises</td>\n",
       "      <td>0 to 4 Yrs</td>\n",
       "    </tr>\n",
       "    <tr>\n",
       "      <th>6</th>\n",
       "      <td>How relevant did you find the job search resul...</td>\n",
       "      <td>Bangalore</td>\n",
       "      <td>divya interprises</td>\n",
       "      <td>0 to 4 Yrs</td>\n",
       "    </tr>\n",
       "    <tr>\n",
       "      <th>7</th>\n",
       "      <td>Data Analyst Vacancy</td>\n",
       "      <td>Bangalore</td>\n",
       "      <td>v-tech data outsourcing</td>\n",
       "      <td>0 to 2 Yrs</td>\n",
       "    </tr>\n",
       "    <tr>\n",
       "      <th>8</th>\n",
       "      <td>Data Entry Specialist</td>\n",
       "      <td>Bangalore</td>\n",
       "      <td>v-tech data outsourcing</td>\n",
       "      <td>0 to 2 Yrs</td>\n",
       "    </tr>\n",
       "    <tr>\n",
       "      <th>9</th>\n",
       "      <td>Data Engineer karnataka</td>\n",
       "      <td>Bangalore</td>\n",
       "      <td>always international manpower servi...</td>\n",
       "      <td>1 to 5 Yrs</td>\n",
       "    </tr>\n",
       "  </tbody>\n",
       "</table>\n",
       "</div>"
      ],
      "text/plain": [
       "                                           Job Title Job Location  \\\n",
       "0                           Computer Systems Analyst    Bangalore   \n",
       "1  Full time opportunity for Business Process & S...    Bangalore   \n",
       "2                            Data Management Analyst    Bangalore   \n",
       "3                Data Entry Operator,Computer Typist    Bangalore   \n",
       "4                      System Administration Analyst    Bangalore   \n",
       "5                               Data Analyst Vacancy    Bangalore   \n",
       "6  How relevant did you find the job search resul...    Bangalore   \n",
       "7                               Data Analyst Vacancy    Bangalore   \n",
       "8                              Data Entry Specialist    Bangalore   \n",
       "9                            Data Engineer karnataka    Bangalore   \n",
       "\n",
       "                                  Company Experience Required  \n",
       "0                 v-tech data outsourcing          0 to 2 Yrs  \n",
       "1  ntt data information processing ser...          3 to 8 Yrs  \n",
       "2                 v-tech data outsourcing          0 to 2 Yrs  \n",
       "3       ur infotech hiring for data entry          1 to 6 Yrs  \n",
       "4  ntt data information processing ser...          3 to 6 Yrs  \n",
       "5                       divya interprises          0 to 4 Yrs  \n",
       "6                       divya interprises          0 to 4 Yrs  \n",
       "7                 v-tech data outsourcing          0 to 2 Yrs  \n",
       "8                 v-tech data outsourcing          0 to 2 Yrs  \n",
       "9  always international manpower servi...          1 to 5 Yrs  "
      ]
     },
     "execution_count": 69,
     "metadata": {},
     "output_type": "execute_result"
    }
   ],
   "source": [
    "import pandas as pd \n",
    "df = pd.DataFrame({\"Job Title\":job_title, \"Job Location\":job_location, \"Company\":company_name, \"Experience Required\":experience_required})\n",
    "df"
   ]
  },
  {
   "cell_type": "code",
   "execution_count": 70,
   "id": "c3a5070c",
   "metadata": {},
   "outputs": [
    {
     "name": "stdout",
     "output_type": "stream",
     "text": [
      "Requirement already satisfied: Selenium in c:\\users\\dell\\appdata\\local\\anaconda3\\lib\\site-packages (4.15.1)\n",
      "Requirement already satisfied: trio-websocket~=0.9 in c:\\users\\dell\\appdata\\local\\anaconda3\\lib\\site-packages (from Selenium) (0.11.1)\n",
      "Requirement already satisfied: urllib3[socks]<3,>=1.26 in c:\\users\\dell\\appdata\\local\\anaconda3\\lib\\site-packages (from Selenium) (1.26.14)\n",
      "Requirement already satisfied: trio~=0.17 in c:\\users\\dell\\appdata\\local\\anaconda3\\lib\\site-packages (from Selenium) (0.23.0)\n",
      "Requirement already satisfied: certifi>=2021.10.8 in c:\\users\\dell\\appdata\\local\\anaconda3\\lib\\site-packages (from Selenium) (2022.12.7)\n",
      "Requirement already satisfied: idna in c:\\users\\dell\\appdata\\local\\anaconda3\\lib\\site-packages (from trio~=0.17->Selenium) (3.4)\n",
      "Requirement already satisfied: attrs>=20.1.0 in c:\\users\\dell\\appdata\\local\\anaconda3\\lib\\site-packages (from trio~=0.17->Selenium) (22.1.0)\n",
      "Requirement already satisfied: cffi>=1.14 in c:\\users\\dell\\appdata\\local\\anaconda3\\lib\\site-packages (from trio~=0.17->Selenium) (1.15.1)\n",
      "Requirement already satisfied: exceptiongroup>=1.0.0rc9 in c:\\users\\dell\\appdata\\local\\anaconda3\\lib\\site-packages (from trio~=0.17->Selenium) (1.1.3)\n",
      "Requirement already satisfied: sniffio>=1.3.0 in c:\\users\\dell\\appdata\\local\\anaconda3\\lib\\site-packages (from trio~=0.17->Selenium) (1.3.0)\n",
      "Requirement already satisfied: outcome in c:\\users\\dell\\appdata\\local\\anaconda3\\lib\\site-packages (from trio~=0.17->Selenium) (1.3.0.post0)\n",
      "Requirement already satisfied: sortedcontainers in c:\\users\\dell\\appdata\\local\\anaconda3\\lib\\site-packages (from trio~=0.17->Selenium) (2.4.0)\n",
      "Requirement already satisfied: wsproto>=0.14 in c:\\users\\dell\\appdata\\local\\anaconda3\\lib\\site-packages (from trio-websocket~=0.9->Selenium) (1.2.0)\n",
      "Requirement already satisfied: PySocks!=1.5.7,<2.0,>=1.5.6 in c:\\users\\dell\\appdata\\local\\anaconda3\\lib\\site-packages (from urllib3[socks]<3,>=1.26->Selenium) (1.7.1)\n",
      "Requirement already satisfied: pycparser in c:\\users\\dell\\appdata\\local\\anaconda3\\lib\\site-packages (from cffi>=1.14->trio~=0.17->Selenium) (2.21)\n",
      "Requirement already satisfied: h11<1,>=0.9.0 in c:\\users\\dell\\appdata\\local\\anaconda3\\lib\\site-packages (from wsproto>=0.14->trio-websocket~=0.9->Selenium) (0.14.0)\n"
     ]
    }
   ],
   "source": [
    "! pip install Selenium"
   ]
  },
  {
   "cell_type": "code",
   "execution_count": 71,
   "id": "04e92528",
   "metadata": {},
   "outputs": [],
   "source": [
    "#2\n",
    "import selenium\n",
    "from selenium import webdriver \n",
    "import pandas as pd \n",
    "from selenium.webdriver.common.by import By \n",
    "import warnings\n",
    "warnings.filterwarnings(\"ignore\")\n",
    "import time "
   ]
  },
  {
   "cell_type": "code",
   "execution_count": 72,
   "id": "f0ba72e1",
   "metadata": {},
   "outputs": [],
   "source": [
    "driver = webdriver.Chrome()"
   ]
  },
  {
   "cell_type": "code",
   "execution_count": 73,
   "id": "779dc981",
   "metadata": {},
   "outputs": [],
   "source": [
    "driver.get(\"https://www.shine.com/\")\n"
   ]
  },
  {
   "cell_type": "code",
   "execution_count": 74,
   "id": "56b20a11",
   "metadata": {},
   "outputs": [],
   "source": [
    "designation = driver.find_element(By.CLASS_NAME,\"form-control  \")\n",
    "designation.send_keys(\"Data Scientist\")"
   ]
  },
  {
   "cell_type": "code",
   "execution_count": 77,
   "id": "28981479",
   "metadata": {},
   "outputs": [],
   "source": [
    "location = driver.find_element(By.XPATH,\"/html/body/div/div[4]/div/div[2]/div[2]/div/form/div/div[1]/ul/li[2]/div/input\")\n",
    "location.send_keys(\"Bangalore\")"
   ]
  },
  {
   "cell_type": "code",
   "execution_count": 78,
   "id": "0ac21967",
   "metadata": {},
   "outputs": [],
   "source": [
    "search = driver.find_element(By.XPATH,\"/html/body/div/div[4]/div/div[2]/div[2]/div/form/div/div[2]/div/button\")\n",
    "search.click()"
   ]
  },
  {
   "cell_type": "code",
   "execution_count": 79,
   "id": "468546b7",
   "metadata": {},
   "outputs": [],
   "source": [
    "job_title = []\n",
    "job_location = []\n",
    "company_name = []\n",
    "experience_required = []"
   ]
  },
  {
   "cell_type": "code",
   "execution_count": 82,
   "id": "3a9d7279",
   "metadata": {},
   "outputs": [],
   "source": [
    "job_title = []\n",
    "jobtitle = driver.find_elements(By.TAG_NAME,\"h2\")\n",
    "for i in jobtitle[:10]:\n",
    "    job_title.append(i.text)\n"
   ]
  },
  {
   "cell_type": "code",
   "execution_count": 83,
   "id": "6df3fd15",
   "metadata": {},
   "outputs": [],
   "source": [
    "job_location = [] \n",
    "a = driver.find_elements(By.XPATH, '//div[@class=\"jobCard_jobCard_lists__fdnsc\"]/div[2]')\n",
    "for i in a[:10]:\n",
    "    b = i.text.split(\"\\n\")[0]\n",
    "    job_location.append(b)"
   ]
  },
  {
   "cell_type": "code",
   "execution_count": 84,
   "id": "519ed6bd",
   "metadata": {},
   "outputs": [],
   "source": [
    "company_name = [] \n",
    "a = driver.find_elements(By.XPATH,'//div[@class=\"jobCard_jobCard_cName__mYnow\"]/span') \n",
    "for i in a[:10]:\n",
    "    b = i.text.split(\"\\n\")[0]\n",
    "    company_name.append(b)\n",
    "    "
   ]
  },
  {
   "cell_type": "code",
   "execution_count": 85,
   "id": "db4c6594",
   "metadata": {},
   "outputs": [],
   "source": [
    "experience_required = [] \n",
    "a = driver.find_elements(By.XPATH,'//div[@class=\"jobCard_jobCard_lists__fdnsc\"]/div[1]') \n",
    "for i in a[:10]:\n",
    "    b = i.text.split(\"\\n\")[0]\n",
    "    experience_required.append(b) \n"
   ]
  },
  {
   "cell_type": "code",
   "execution_count": 86,
   "id": "c8862648",
   "metadata": {},
   "outputs": [
    {
     "name": "stdout",
     "output_type": "stream",
     "text": [
      "10 10 10 10\n"
     ]
    }
   ],
   "source": [
    "print(len(job_title), len(job_location), len(company_name), len(experience_required))"
   ]
  },
  {
   "cell_type": "code",
   "execution_count": 87,
   "id": "9c6514c7",
   "metadata": {},
   "outputs": [
    {
     "data": {
      "text/html": [
       "<div>\n",
       "<style scoped>\n",
       "    .dataframe tbody tr th:only-of-type {\n",
       "        vertical-align: middle;\n",
       "    }\n",
       "\n",
       "    .dataframe tbody tr th {\n",
       "        vertical-align: top;\n",
       "    }\n",
       "\n",
       "    .dataframe thead th {\n",
       "        text-align: right;\n",
       "    }\n",
       "</style>\n",
       "<table border=\"1\" class=\"dataframe\">\n",
       "  <thead>\n",
       "    <tr style=\"text-align: right;\">\n",
       "      <th></th>\n",
       "      <th>Job Title</th>\n",
       "      <th>Job Location</th>\n",
       "      <th>Company</th>\n",
       "      <th>Experience Required</th>\n",
       "    </tr>\n",
       "  </thead>\n",
       "  <tbody>\n",
       "    <tr>\n",
       "      <th>0</th>\n",
       "      <td>Data Scientist Vacancy</td>\n",
       "      <td>Bangalore</td>\n",
       "      <td>divya interprises</td>\n",
       "      <td>0 to 4 Yrs</td>\n",
       "    </tr>\n",
       "    <tr>\n",
       "      <th>1</th>\n",
       "      <td>Data Scientist Urgent Recruitment</td>\n",
       "      <td>Bangalore</td>\n",
       "      <td>divya interprises</td>\n",
       "      <td>0 to 4 Yrs</td>\n",
       "    </tr>\n",
       "    <tr>\n",
       "      <th>2</th>\n",
       "      <td>Data Scientist- Bangalore</td>\n",
       "      <td>Bangalore</td>\n",
       "      <td>the fashion cosmo</td>\n",
       "      <td>0 to 3 Yrs</td>\n",
       "    </tr>\n",
       "    <tr>\n",
       "      <th>3</th>\n",
       "      <td>Data Scientist AI ML CV</td>\n",
       "      <td>Bangalore</td>\n",
       "      <td>bosch group</td>\n",
       "      <td>3 to 5 Yrs</td>\n",
       "    </tr>\n",
       "    <tr>\n",
       "      <th>4</th>\n",
       "      <td>Data Scientist AI ML NLP</td>\n",
       "      <td>Bangalore</td>\n",
       "      <td>bosch group</td>\n",
       "      <td>3 to 5 Yrs</td>\n",
       "    </tr>\n",
       "    <tr>\n",
       "      <th>5</th>\n",
       "      <td>Phd Data Scientist</td>\n",
       "      <td>Bangalore</td>\n",
       "      <td>bosch group</td>\n",
       "      <td>2 to 5 Yrs</td>\n",
       "    </tr>\n",
       "    <tr>\n",
       "      <th>6</th>\n",
       "      <td>How relevant did you find the job search resul...</td>\n",
       "      <td>Bangalore</td>\n",
       "      <td>shiva hr services</td>\n",
       "      <td>0 to 3 Yrs</td>\n",
       "    </tr>\n",
       "    <tr>\n",
       "      <th>7</th>\n",
       "      <td>Data Scientist-Bangalore</td>\n",
       "      <td>Bangalore</td>\n",
       "      <td>divya interprises</td>\n",
       "      <td>0 to 4 Yrs</td>\n",
       "    </tr>\n",
       "    <tr>\n",
       "      <th>8</th>\n",
       "      <td>Hiring For Data Scientist</td>\n",
       "      <td>Bangalore</td>\n",
       "      <td>racanaa energy solution private lim...</td>\n",
       "      <td>3 to 6 Yrs</td>\n",
       "    </tr>\n",
       "    <tr>\n",
       "      <th>9</th>\n",
       "      <td>Data Scientist</td>\n",
       "      <td>Bangalore</td>\n",
       "      <td>true caller</td>\n",
       "      <td>8 to 12 Yrs</td>\n",
       "    </tr>\n",
       "  </tbody>\n",
       "</table>\n",
       "</div>"
      ],
      "text/plain": [
       "                                           Job Title Job Location  \\\n",
       "0                             Data Scientist Vacancy    Bangalore   \n",
       "1                  Data Scientist Urgent Recruitment    Bangalore   \n",
       "2                          Data Scientist- Bangalore    Bangalore   \n",
       "3                            Data Scientist AI ML CV    Bangalore   \n",
       "4                           Data Scientist AI ML NLP    Bangalore   \n",
       "5                                 Phd Data Scientist    Bangalore   \n",
       "6  How relevant did you find the job search resul...    Bangalore   \n",
       "7                           Data Scientist-Bangalore    Bangalore   \n",
       "8                          Hiring For Data Scientist    Bangalore   \n",
       "9                                     Data Scientist    Bangalore   \n",
       "\n",
       "                                  Company Experience Required  \n",
       "0                       divya interprises          0 to 4 Yrs  \n",
       "1                       divya interprises          0 to 4 Yrs  \n",
       "2                       the fashion cosmo          0 to 3 Yrs  \n",
       "3                             bosch group          3 to 5 Yrs  \n",
       "4                             bosch group          3 to 5 Yrs  \n",
       "5                             bosch group          2 to 5 Yrs  \n",
       "6                       shiva hr services          0 to 3 Yrs  \n",
       "7                       divya interprises          0 to 4 Yrs  \n",
       "8  racanaa energy solution private lim...          3 to 6 Yrs  \n",
       "9                             true caller         8 to 12 Yrs  "
      ]
     },
     "execution_count": 87,
     "metadata": {},
     "output_type": "execute_result"
    }
   ],
   "source": [
    "import pandas as pd \n",
    "df = pd.DataFrame({\"Job Title\":job_title, \"Job Location\":job_location, \"Company\":company_name, \"Experience Required\":experience_required})\n",
    "df"
   ]
  },
  {
   "cell_type": "code",
   "execution_count": 102,
   "id": "187a4f04",
   "metadata": {},
   "outputs": [],
   "source": [
    "#3\n",
    "import selenium\n",
    "from selenium import webdriver \n",
    "import pandas as pd \n",
    "from selenium.webdriver.common.by import By \n",
    "import warnings\n",
    "warnings.filterwarnings(\"ignore\")\n",
    "import time "
   ]
  },
  {
   "cell_type": "code",
   "execution_count": 128,
   "id": "e7581782",
   "metadata": {},
   "outputs": [],
   "source": [
    "driver = webdriver.Chrome()"
   ]
  },
  {
   "cell_type": "code",
   "execution_count": 129,
   "id": "95c44ca0",
   "metadata": {},
   "outputs": [],
   "source": [
    "driver.get(\"https://www.shine.com/\")\n"
   ]
  },
  {
   "cell_type": "code",
   "execution_count": 132,
   "id": "e9934980",
   "metadata": {},
   "outputs": [],
   "source": [
    "designation = driver.find_element(By.CLASS_NAME, \"form-control  \")\n",
    "designation.send_keys(\"Data Scientist\")"
   ]
  },
  {
   "cell_type": "code",
   "execution_count": 134,
   "id": "d800b88d",
   "metadata": {},
   "outputs": [],
   "source": [
    "search = driver.find_element(By.XPATH,\"/html/body/div/div[4]/div/div[2]/div[2]/div/form/div/div[2]/div/button\")\n",
    "search.click()"
   ]
  },
  {
   "cell_type": "code",
   "execution_count": 138,
   "id": "e585718d",
   "metadata": {},
   "outputs": [],
   "source": [
    "loc_filter = driver.find_element(By.XPATH, '/html/body/div[1]/div[1]/div[3]/div/div[1]/div/div[2]/div[2]/div/div/div/div[3]/div/div/div/ul/li[1]/input')\n",
    "loc_filter.send_keys(\"Delhi\")"
   ]
  },
  {
   "cell_type": "code",
   "execution_count": 139,
   "id": "74b91819",
   "metadata": {},
   "outputs": [],
   "source": [
    "option = driver.find_element(By.XPATH, '/html/body/div[1]/div[1]/div[3]/div/div[1]/div/div[2]/div[2]/div/div/div/div[3]/div/div/div/ul/li[2]/span/label')\n",
    "option.click()"
   ]
  },
  {
   "cell_type": "code",
   "execution_count": 140,
   "id": "cce2e664",
   "metadata": {},
   "outputs": [],
   "source": [
    "q = driver.find_element(By.XPATH,'//div[@class=\"filter_btnWrap__5ToWy\"]/button[2]')\n",
    "q.click()"
   ]
  },
  {
   "cell_type": "code",
   "execution_count": 141,
   "id": "736598e9",
   "metadata": {},
   "outputs": [],
   "source": [
    "search =  driver.find_element(By.XPATH, '/html/body/div[1]/div[1]/div[3]/div/div[1]/div/div[2]/div[2]/div/div/div/div[3]/div/div/div/ul/li[1]/input')\n",
    "search.send_keys(\"3 To 5 Lakh\")"
   ]
  },
  {
   "cell_type": "code",
   "execution_count": 142,
   "id": "9b0ed879",
   "metadata": {},
   "outputs": [],
   "source": [
    "x =  driver.find_element(By.XPATH,'/html/body/div[1]/div[1]/div[3]/div/div[1]/div/div[2]/div[2]/div/div/div/div[3]/div/div/div/ul/li[2]/span/label')\n",
    "x.click()"
   ]
  },
  {
   "cell_type": "code",
   "execution_count": 143,
   "id": "12e477a1",
   "metadata": {},
   "outputs": [],
   "source": [
    "submit = driver.find_element(By.XPATH,'//div[@class=\"filter_btnWrap__5ToWy\"]/button[2]')\n",
    "submit.click()"
   ]
  },
  {
   "cell_type": "code",
   "execution_count": 144,
   "id": "bde467c4",
   "metadata": {},
   "outputs": [],
   "source": [
    "job_title = []\n",
    "job_location = []\n",
    "company_name = []\n",
    "experience_required = []"
   ]
  },
  {
   "cell_type": "code",
   "execution_count": 145,
   "id": "ee4c04e2",
   "metadata": {},
   "outputs": [],
   "source": [
    "job_title = []\n",
    "jobtitle = driver.find_elements(By.TAG_NAME,\"h2\")\n",
    "for i in jobtitle[:10]:\n",
    "    job_title.append(i.text)"
   ]
  },
  {
   "cell_type": "code",
   "execution_count": 146,
   "id": "d4752f6f",
   "metadata": {},
   "outputs": [],
   "source": [
    "job_location = [] \n",
    "a = driver.find_elements(By.XPATH, '//div[@class=\"jobCard_jobCard_lists__fdnsc\"]/div[2]')\n",
    "for i in a[:10]:\n",
    "    b = i.text.split(\"\\n\")[0]\n",
    "    job_location.append(b)"
   ]
  },
  {
   "cell_type": "code",
   "execution_count": 147,
   "id": "c58c9770",
   "metadata": {},
   "outputs": [],
   "source": [
    "company_name = [] \n",
    "a = driver.find_elements(By.XPATH,'//div[@class=\"jobCard_jobCard_cName__mYnow\"]/span') \n",
    "for i in a[:10]:\n",
    "    b = i.text.split(\"\\n\")[0]\n",
    "    company_name.append(b)"
   ]
  },
  {
   "cell_type": "code",
   "execution_count": 148,
   "id": "cea0684e",
   "metadata": {},
   "outputs": [],
   "source": [
    "experience_required = [] \n",
    "a = driver.find_elements(By.XPATH,'//div[@class=\"jobCard_jobCard_lists__fdnsc\"]/div[1]') \n",
    "for i in a[:10]:\n",
    "    b = i.text.split(\"\\n\")[0]\n",
    "    experience_required.append(b) \n"
   ]
  },
  {
   "cell_type": "code",
   "execution_count": 149,
   "id": "6fbe6aa6",
   "metadata": {},
   "outputs": [
    {
     "name": "stdout",
     "output_type": "stream",
     "text": [
      "10 10 10 10\n"
     ]
    }
   ],
   "source": [
    "print(len(job_title), len(job_location), len(company_name), len(experience_required))"
   ]
  },
  {
   "cell_type": "code",
   "execution_count": 150,
   "id": "33c9f0e9",
   "metadata": {},
   "outputs": [
    {
     "data": {
      "text/html": [
       "<div>\n",
       "<style scoped>\n",
       "    .dataframe tbody tr th:only-of-type {\n",
       "        vertical-align: middle;\n",
       "    }\n",
       "\n",
       "    .dataframe tbody tr th {\n",
       "        vertical-align: top;\n",
       "    }\n",
       "\n",
       "    .dataframe thead th {\n",
       "        text-align: right;\n",
       "    }\n",
       "</style>\n",
       "<table border=\"1\" class=\"dataframe\">\n",
       "  <thead>\n",
       "    <tr style=\"text-align: right;\">\n",
       "      <th></th>\n",
       "      <th>Job Title</th>\n",
       "      <th>Job Location</th>\n",
       "      <th>Company</th>\n",
       "      <th>Experience Required</th>\n",
       "    </tr>\n",
       "  </thead>\n",
       "  <tbody>\n",
       "    <tr>\n",
       "      <th>0</th>\n",
       "      <td>Data Scientist- Delhi</td>\n",
       "      <td>Delhi</td>\n",
       "      <td>the fashion cosmo</td>\n",
       "      <td>0 to 3 Yrs</td>\n",
       "    </tr>\n",
       "    <tr>\n",
       "      <th>1</th>\n",
       "      <td>Data Scientist-Delhi</td>\n",
       "      <td>Delhi</td>\n",
       "      <td>shiva hr services</td>\n",
       "      <td>0 to 3 Yrs</td>\n",
       "    </tr>\n",
       "    <tr>\n",
       "      <th>2</th>\n",
       "      <td>Data Scientist- Delhi</td>\n",
       "      <td>Delhi</td>\n",
       "      <td>the fashion cosmo</td>\n",
       "      <td>0 to 3 Yrs</td>\n",
       "    </tr>\n",
       "    <tr>\n",
       "      <th>3</th>\n",
       "      <td>Data Scientist- Delhi</td>\n",
       "      <td>Delhi</td>\n",
       "      <td>the fashion cosmo</td>\n",
       "      <td>0 to 3 Yrs</td>\n",
       "    </tr>\n",
       "    <tr>\n",
       "      <th>4</th>\n",
       "      <td>Data Scientist</td>\n",
       "      <td>Delhi</td>\n",
       "      <td>acme services private limited</td>\n",
       "      <td>3 to 5 Yrs</td>\n",
       "    </tr>\n",
       "    <tr>\n",
       "      <th>5</th>\n",
       "      <td>Data Scientist</td>\n",
       "      <td>Delhi</td>\n",
       "      <td>quiscon biotech</td>\n",
       "      <td>0 to 1 Yr</td>\n",
       "    </tr>\n",
       "    <tr>\n",
       "      <th>6</th>\n",
       "      <td>How relevant did you find the job search resul...</td>\n",
       "      <td>Delhi</td>\n",
       "      <td>techno endura</td>\n",
       "      <td>0 to 1 Yr</td>\n",
       "    </tr>\n",
       "    <tr>\n",
       "      <th>7</th>\n",
       "      <td>Clinical Data Analyst</td>\n",
       "      <td>Delhi</td>\n",
       "      <td>acme services private limited</td>\n",
       "      <td>3 to 5 Yrs</td>\n",
       "    </tr>\n",
       "    <tr>\n",
       "      <th>8</th>\n",
       "      <td>Data Scientist</td>\n",
       "      <td>Delhi</td>\n",
       "      <td>v-tech data outsourcing</td>\n",
       "      <td>0 to 2 Yrs</td>\n",
       "    </tr>\n",
       "    <tr>\n",
       "      <th>9</th>\n",
       "      <td>Data Modeler</td>\n",
       "      <td>Delhi</td>\n",
       "      <td>national seeds corporation limited</td>\n",
       "      <td>1 to 6 Yrs</td>\n",
       "    </tr>\n",
       "  </tbody>\n",
       "</table>\n",
       "</div>"
      ],
      "text/plain": [
       "                                           Job Title Job Location  \\\n",
       "0                              Data Scientist- Delhi        Delhi   \n",
       "1                               Data Scientist-Delhi        Delhi   \n",
       "2                              Data Scientist- Delhi        Delhi   \n",
       "3                              Data Scientist- Delhi        Delhi   \n",
       "4                                     Data Scientist        Delhi   \n",
       "5                                     Data Scientist        Delhi   \n",
       "6  How relevant did you find the job search resul...        Delhi   \n",
       "7                              Clinical Data Analyst        Delhi   \n",
       "8                                     Data Scientist        Delhi   \n",
       "9                                       Data Modeler        Delhi   \n",
       "\n",
       "                              Company Experience Required  \n",
       "0                   the fashion cosmo          0 to 3 Yrs  \n",
       "1                   shiva hr services          0 to 3 Yrs  \n",
       "2                   the fashion cosmo          0 to 3 Yrs  \n",
       "3                   the fashion cosmo          0 to 3 Yrs  \n",
       "4       acme services private limited          3 to 5 Yrs  \n",
       "5                     quiscon biotech           0 to 1 Yr  \n",
       "6                       techno endura           0 to 1 Yr  \n",
       "7       acme services private limited          3 to 5 Yrs  \n",
       "8             v-tech data outsourcing          0 to 2 Yrs  \n",
       "9  national seeds corporation limited          1 to 6 Yrs  "
      ]
     },
     "execution_count": 150,
     "metadata": {},
     "output_type": "execute_result"
    }
   ],
   "source": [
    "import pandas as pd \n",
    "df = pd.DataFrame({\"Job Title\":job_title, \"Job Location\":job_location, \"Company\":company_name, \"Experience Required\":experience_required})\n",
    "df"
   ]
  },
  {
   "cell_type": "code",
   "execution_count": 168,
   "id": "a6dd5cf5",
   "metadata": {},
   "outputs": [],
   "source": [
    "#4\n",
    "import selenium\n",
    "from selenium import webdriver \n",
    "import pandas as pd \n",
    "from selenium.webdriver.common.by import By \n",
    "from selenium.webdriver.common.keys import Keys\n",
    "import warnings\n",
    "warnings.filterwarnings(\"ignore\")\n",
    "import time "
   ]
  },
  {
   "cell_type": "code",
   "execution_count": 169,
   "id": "548c07e8",
   "metadata": {},
   "outputs": [],
   "source": [
    "driver = webdriver.Chrome()"
   ]
  },
  {
   "cell_type": "code",
   "execution_count": 170,
   "id": "255c7820",
   "metadata": {},
   "outputs": [],
   "source": [
    "driver.get(\"https://www.flipkart.com/\")"
   ]
  },
  {
   "cell_type": "code",
   "execution_count": 171,
   "id": "6389e2dd",
   "metadata": {},
   "outputs": [],
   "source": [
    "search = driver.find_element(By.XPATH,'//div[@class=\"_2SmNnR\"]/input')\n",
    "search.send_keys(\"sunglasses\")\n",
    "search.send_keys(Keys.ENTER)"
   ]
  },
  {
   "cell_type": "code",
   "execution_count": 183,
   "id": "77bf6a19",
   "metadata": {},
   "outputs": [
    {
     "data": {
      "text/plain": [
       "100"
      ]
     },
     "execution_count": 183,
     "metadata": {},
     "output_type": "execute_result"
    }
   ],
   "source": [
    "brand = []\n",
    "start = 0\n",
    "end = 3\n",
    "for page in range(start, end):\n",
    "    a = driver.find_elements(By.CLASS_NAME, '_2WkVRV')\n",
    "    for i in a[:100]:\n",
    "        brand.append(i.text)\n",
    "    next =  driver.find_element(By.XPATH, '//a[@class=\"_1LKTO3\"]/span')\n",
    "    next.click() \n",
    "    time.sleep(3)\n",
    "    \n",
    "brand = brand[:100]\n",
    "len(brand)"
   ]
  },
  {
   "cell_type": "code",
   "execution_count": 185,
   "id": "7ef5470a",
   "metadata": {},
   "outputs": [
    {
     "data": {
      "text/plain": [
       "100"
      ]
     },
     "execution_count": 185,
     "metadata": {},
     "output_type": "execute_result"
    }
   ],
   "source": [
    "prod_desc = []\n",
    "start = 0\n",
    "end = 3\n",
    "for page in range(start, end):\n",
    "    a = driver.find_elements(By.CLASS_NAME, 'IRpwTa')\n",
    "    for i in a[:100]:\n",
    "        prod_desc.append(i.text)\n",
    "    next =  driver.find_element(By.XPATH, '//a[@class=\"_1LKTO3\"]/span')\n",
    "    next.click() \n",
    "    time.sleep(3)\n",
    "    \n",
    "prod_desc = prod_desc[:100]\n",
    "len(prod_desc)\n"
   ]
  },
  {
   "cell_type": "code",
   "execution_count": 188,
   "id": "faf2ad31",
   "metadata": {},
   "outputs": [
    {
     "data": {
      "text/plain": [
       "100"
      ]
     },
     "execution_count": 188,
     "metadata": {},
     "output_type": "execute_result"
    }
   ],
   "source": [
    "price = []\n",
    "start = 0\n",
    "end = 3\n",
    "for page in range(start, end):\n",
    "    a = driver.find_elements(By.XPATH, '//div[@class=\"_25b18c\"]/div[1]')\n",
    "    for i in a[:100]:\n",
    "        price.append(i.text)\n",
    "    next =  driver.find_element(By.XPATH, '//a[@class=\"_1LKTO3\"]/span')\n",
    "    next.click() \n",
    "    time.sleep(3)\n",
    "    \n",
    "price = price[:100]\n",
    "len(price)"
   ]
  },
  {
   "cell_type": "code",
   "execution_count": 189,
   "id": "9b5e0efa",
   "metadata": {},
   "outputs": [
    {
     "data": {
      "text/html": [
       "<div>\n",
       "<style scoped>\n",
       "    .dataframe tbody tr th:only-of-type {\n",
       "        vertical-align: middle;\n",
       "    }\n",
       "\n",
       "    .dataframe tbody tr th {\n",
       "        vertical-align: top;\n",
       "    }\n",
       "\n",
       "    .dataframe thead th {\n",
       "        text-align: right;\n",
       "    }\n",
       "</style>\n",
       "<table border=\"1\" class=\"dataframe\">\n",
       "  <thead>\n",
       "    <tr style=\"text-align: right;\">\n",
       "      <th></th>\n",
       "      <th>Brand</th>\n",
       "      <th>Product Description</th>\n",
       "      <th>Price</th>\n",
       "    </tr>\n",
       "  </thead>\n",
       "  <tbody>\n",
       "    <tr>\n",
       "      <th>0</th>\n",
       "      <td>iCopertina</td>\n",
       "      <td>Riding Glasses, UV Protection Clubmaster, Wayf...</td>\n",
       "      <td>₹140</td>\n",
       "    </tr>\n",
       "    <tr>\n",
       "      <th>1</th>\n",
       "      <td>iCopertina</td>\n",
       "      <td>Polarized, UV Protection Retro Square Sunglass...</td>\n",
       "      <td>₹799</td>\n",
       "    </tr>\n",
       "    <tr>\n",
       "      <th>2</th>\n",
       "      <td>Rich Club</td>\n",
       "      <td>UV Protection Wayfarer Sunglasses (58)</td>\n",
       "      <td>₹561</td>\n",
       "    </tr>\n",
       "    <tr>\n",
       "      <th>3</th>\n",
       "      <td>GANSTA</td>\n",
       "      <td>UV Protection Wayfarer Sunglasses (50)</td>\n",
       "      <td>₹187</td>\n",
       "    </tr>\n",
       "    <tr>\n",
       "      <th>4</th>\n",
       "      <td>VINCENT CHASE</td>\n",
       "      <td>UV Protection Rectangular Sunglasses (Free Size)</td>\n",
       "      <td>₹288</td>\n",
       "    </tr>\n",
       "    <tr>\n",
       "      <th>...</th>\n",
       "      <td>...</td>\n",
       "      <td>...</td>\n",
       "      <td>...</td>\n",
       "    </tr>\n",
       "    <tr>\n",
       "      <th>95</th>\n",
       "      <td>PIRASO</td>\n",
       "      <td>UV Protection Aviator, Wayfarer Sunglasses (54)</td>\n",
       "      <td>₹279</td>\n",
       "    </tr>\n",
       "    <tr>\n",
       "      <th>96</th>\n",
       "      <td>Nicole Miller</td>\n",
       "      <td>Polarized Rectangular Sunglasses (60)</td>\n",
       "      <td>₹539</td>\n",
       "    </tr>\n",
       "    <tr>\n",
       "      <th>97</th>\n",
       "      <td>iCopertina</td>\n",
       "      <td>Polarized Wayfarer Sunglasses (55)</td>\n",
       "      <td>₹219</td>\n",
       "    </tr>\n",
       "    <tr>\n",
       "      <th>98</th>\n",
       "      <td>Roadster</td>\n",
       "      <td>UV Protection Aviator Sunglasses (62)</td>\n",
       "      <td>₹362</td>\n",
       "    </tr>\n",
       "    <tr>\n",
       "      <th>99</th>\n",
       "      <td>VINCENT CHASE</td>\n",
       "      <td>UV Protection Wayfarer, Sports, Spectacle , Re...</td>\n",
       "      <td>₹79</td>\n",
       "    </tr>\n",
       "  </tbody>\n",
       "</table>\n",
       "<p>100 rows × 3 columns</p>\n",
       "</div>"
      ],
      "text/plain": [
       "            Brand                                Product Description Price\n",
       "0      iCopertina  Riding Glasses, UV Protection Clubmaster, Wayf...  ₹140\n",
       "1      iCopertina  Polarized, UV Protection Retro Square Sunglass...  ₹799\n",
       "2       Rich Club             UV Protection Wayfarer Sunglasses (58)  ₹561\n",
       "3          GANSTA             UV Protection Wayfarer Sunglasses (50)  ₹187\n",
       "4   VINCENT CHASE   UV Protection Rectangular Sunglasses (Free Size)  ₹288\n",
       "..            ...                                                ...   ...\n",
       "95         PIRASO    UV Protection Aviator, Wayfarer Sunglasses (54)  ₹279\n",
       "96  Nicole Miller              Polarized Rectangular Sunglasses (60)  ₹539\n",
       "97     iCopertina                 Polarized Wayfarer Sunglasses (55)  ₹219\n",
       "98       Roadster              UV Protection Aviator Sunglasses (62)  ₹362\n",
       "99  VINCENT CHASE  UV Protection Wayfarer, Sports, Spectacle , Re...   ₹79\n",
       "\n",
       "[100 rows x 3 columns]"
      ]
     },
     "execution_count": 189,
     "metadata": {},
     "output_type": "execute_result"
    }
   ],
   "source": [
    "import pandas as pd \n",
    "df = pd.DataFrame({\"Brand\":brand, \"Product Description\":prod_desc, \"Price\":price,})\n",
    "df"
   ]
  },
  {
   "cell_type": "code",
   "execution_count": 190,
   "id": "01d53828",
   "metadata": {},
   "outputs": [],
   "source": [
    "#5\n",
    "import selenium\n",
    "from selenium import webdriver \n",
    "import pandas as pd \n",
    "from selenium.webdriver.common.by import By \n",
    "from selenium.webdriver.common.keys import Keys\n",
    "import warnings\n",
    "warnings.filterwarnings(\"ignore\")\n",
    "import time "
   ]
  },
  {
   "cell_type": "code",
   "execution_count": 199,
   "id": "4716f66c",
   "metadata": {},
   "outputs": [],
   "source": [
    "driver = webdriver.Chrome()"
   ]
  },
  {
   "cell_type": "code",
   "execution_count": 200,
   "id": "82e03fd4",
   "metadata": {},
   "outputs": [],
   "source": [
    "driver.get(\"https://www.flipkart.com/apple-iphone-11-black-64-gb/product-reviews/itm4e5041ba101fd?pid=MOBFWQ6BXGJCEYNY&lid=LSTMOBFWQ6BXGJCEYNYZXSHRJ&market\")"
   ]
  },
  {
   "cell_type": "code",
   "execution_count": 204,
   "id": "e9df0633",
   "metadata": {},
   "outputs": [
    {
     "data": {
      "text/plain": [
       "100"
      ]
     },
     "execution_count": 204,
     "metadata": {},
     "output_type": "execute_result"
    }
   ],
   "source": [
    "rating = []\n",
    "start = 0\n",
    "end = 10\n",
    "for page in range(start, end):\n",
    "    a = driver.find_elements(By.CLASS_NAME, '_3LWZlK._1BLPMq')\n",
    "    for i in a:\n",
    "        rating.append(i.text)\n",
    "    next =  driver.find_element(By.XPATH, '//a[@class=\"_1LKTO3\"]/span')\n",
    "    next.click() \n",
    "    time.sleep(3)\n",
    "    \n",
    "rating = rating[:100]\n",
    "len(rating)"
   ]
  },
  {
   "cell_type": "code",
   "execution_count": 205,
   "id": "acbab336",
   "metadata": {},
   "outputs": [
    {
     "name": "stdout",
     "output_type": "stream",
     "text": [
      "100\n"
     ]
    }
   ],
   "source": [
    "review_summary = []\n",
    "start = 0\n",
    "end = 10\n",
    "for page in range(start, end):\n",
    "    a = driver.find_elements(By.CLASS_NAME, '_2-N8zT')\n",
    "    for i in a:\n",
    "        review_summary.append(i.text)\n",
    "    next_button = driver.find_element(By.XPATH, '//a[@class=\"_1LKTO3\"]/span')\n",
    "    next_button.click()\n",
    "    time.sleep(3)\n",
    "\n",
    "review_summary = review_summary[:100] \n",
    "\n",
    "print(len(review_summary))\n"
   ]
  },
  {
   "cell_type": "code",
   "execution_count": 207,
   "id": "98901192",
   "metadata": {},
   "outputs": [
    {
     "data": {
      "text/plain": [
       "100"
      ]
     },
     "execution_count": 207,
     "metadata": {},
     "output_type": "execute_result"
    }
   ],
   "source": [
    "full_review = []\n",
    "start = 0\n",
    "end = 10\n",
    "for page in range(start, end):\n",
    "    a = driver.find_elements(By.CLASS_NAME, 't-ZTKy')\n",
    "    for i in a:\n",
    "        full_review.append(i.text)\n",
    "    next =  driver.find_element(By.XPATH, '//a[@class=\"_1LKTO3\"]/span')\n",
    "    next.click() \n",
    "    time.sleep(3)\n",
    "    \n",
    "full_review = full_review[:100]\n",
    "len(full_review)"
   ]
  },
  {
   "cell_type": "code",
   "execution_count": 208,
   "id": "e79ac726",
   "metadata": {},
   "outputs": [
    {
     "data": {
      "text/html": [
       "<div>\n",
       "<style scoped>\n",
       "    .dataframe tbody tr th:only-of-type {\n",
       "        vertical-align: middle;\n",
       "    }\n",
       "\n",
       "    .dataframe tbody tr th {\n",
       "        vertical-align: top;\n",
       "    }\n",
       "\n",
       "    .dataframe thead th {\n",
       "        text-align: right;\n",
       "    }\n",
       "</style>\n",
       "<table border=\"1\" class=\"dataframe\">\n",
       "  <thead>\n",
       "    <tr style=\"text-align: right;\">\n",
       "      <th></th>\n",
       "      <th>Rating</th>\n",
       "      <th>Review summary</th>\n",
       "      <th>Full review</th>\n",
       "    </tr>\n",
       "  </thead>\n",
       "  <tbody>\n",
       "    <tr>\n",
       "      <th>0</th>\n",
       "      <td>5</td>\n",
       "      <td>Fabulous!</td>\n",
       "      <td>Good Camera</td>\n",
       "    </tr>\n",
       "    <tr>\n",
       "      <th>1</th>\n",
       "      <td>5</td>\n",
       "      <td>Just wow!</td>\n",
       "      <td>This is amazing at all</td>\n",
       "    </tr>\n",
       "    <tr>\n",
       "      <th>2</th>\n",
       "      <td>5</td>\n",
       "      <td>Must buy!</td>\n",
       "      <td>Photos super</td>\n",
       "    </tr>\n",
       "    <tr>\n",
       "      <th>3</th>\n",
       "      <td>5</td>\n",
       "      <td>Perfect product!</td>\n",
       "      <td>Feeling awesome after getting the delivery of ...</td>\n",
       "    </tr>\n",
       "    <tr>\n",
       "      <th>4</th>\n",
       "      <td>5</td>\n",
       "      <td>Awesome</td>\n",
       "      <td>Value for money 😍</td>\n",
       "    </tr>\n",
       "    <tr>\n",
       "      <th>...</th>\n",
       "      <td>...</td>\n",
       "      <td>...</td>\n",
       "      <td>...</td>\n",
       "    </tr>\n",
       "    <tr>\n",
       "      <th>95</th>\n",
       "      <td>5</td>\n",
       "      <td>Terrific</td>\n",
       "      <td>very good camera quality</td>\n",
       "    </tr>\n",
       "    <tr>\n",
       "      <th>96</th>\n",
       "      <td>5</td>\n",
       "      <td>Classy product</td>\n",
       "      <td>Value for money 🖤🖤</td>\n",
       "    </tr>\n",
       "    <tr>\n",
       "      <th>97</th>\n",
       "      <td>5</td>\n",
       "      <td>Highly recommended</td>\n",
       "      <td>It’s very good battery life and display and vi...</td>\n",
       "    </tr>\n",
       "    <tr>\n",
       "      <th>98</th>\n",
       "      <td>5</td>\n",
       "      <td>Brilliant</td>\n",
       "      <td>Purple is best</td>\n",
       "    </tr>\n",
       "    <tr>\n",
       "      <th>99</th>\n",
       "      <td>5</td>\n",
       "      <td>Must buy!</td>\n",
       "      <td>Good product 👌I love iPhone</td>\n",
       "    </tr>\n",
       "  </tbody>\n",
       "</table>\n",
       "<p>100 rows × 3 columns</p>\n",
       "</div>"
      ],
      "text/plain": [
       "   Rating      Review summary  \\\n",
       "0       5           Fabulous!   \n",
       "1       5           Just wow!   \n",
       "2       5           Must buy!   \n",
       "3       5    Perfect product!   \n",
       "4       5             Awesome   \n",
       "..    ...                 ...   \n",
       "95      5            Terrific   \n",
       "96      5      Classy product   \n",
       "97      5  Highly recommended   \n",
       "98      5           Brilliant   \n",
       "99      5           Must buy!   \n",
       "\n",
       "                                          Full review  \n",
       "0                                         Good Camera  \n",
       "1                              This is amazing at all  \n",
       "2                                        Photos super  \n",
       "3   Feeling awesome after getting the delivery of ...  \n",
       "4                                   Value for money 😍  \n",
       "..                                                ...  \n",
       "95                           very good camera quality  \n",
       "96                                 Value for money 🖤🖤  \n",
       "97  It’s very good battery life and display and vi...  \n",
       "98                                     Purple is best  \n",
       "99                        Good product 👌I love iPhone  \n",
       "\n",
       "[100 rows x 3 columns]"
      ]
     },
     "execution_count": 208,
     "metadata": {},
     "output_type": "execute_result"
    }
   ],
   "source": [
    "import pandas as pd \n",
    "df = pd.DataFrame({\"Rating\":rating, \"Review summary\": review_summary, \"Full review\":full_review})\n",
    "df"
   ]
  },
  {
   "cell_type": "code",
   "execution_count": 209,
   "id": "7909e467",
   "metadata": {},
   "outputs": [],
   "source": [
    "#6\n",
    "import selenium\n",
    "from selenium import webdriver \n",
    "import pandas as pd \n",
    "from selenium.webdriver.common.by import By \n",
    "from selenium.webdriver.common.keys import Keys\n",
    "import warnings\n",
    "warnings.filterwarnings(\"ignore\")\n",
    "import time "
   ]
  },
  {
   "cell_type": "code",
   "execution_count": 210,
   "id": "1a2b71df",
   "metadata": {},
   "outputs": [],
   "source": [
    "driver = webdriver.Chrome()"
   ]
  },
  {
   "cell_type": "code",
   "execution_count": 211,
   "id": "7f2bb95b",
   "metadata": {},
   "outputs": [],
   "source": [
    "driver.get(\"https://www.flipkart.com/\")"
   ]
  },
  {
   "cell_type": "code",
   "execution_count": 214,
   "id": "e1cd61e2",
   "metadata": {},
   "outputs": [],
   "source": [
    "search = driver.find_element(By.CLASS_NAME,'Pke_EE')\n",
    "search.send_keys(\"sneakers\")\n",
    "search.send_keys(Keys.ENTER)"
   ]
  },
  {
   "cell_type": "code",
   "execution_count": 215,
   "id": "45aaffc8",
   "metadata": {},
   "outputs": [
    {
     "data": {
      "text/plain": [
       "100"
      ]
     },
     "execution_count": 215,
     "metadata": {},
     "output_type": "execute_result"
    }
   ],
   "source": [
    "brand = []\n",
    "start = 0\n",
    "end = 3\n",
    "for page in range(start, end):\n",
    "    a = driver.find_elements(By.CLASS_NAME, '_2WkVRV')\n",
    "    for i in a[:100]:\n",
    "        brand.append(i.text)\n",
    "    next =  driver.find_element(By.XPATH, '//a[@class=\"_1LKTO3\"]/span')\n",
    "    next.click() \n",
    "    time.sleep(3)\n",
    "    \n",
    "brand = brand[:100]\n",
    "len(brand)"
   ]
  },
  {
   "cell_type": "code",
   "execution_count": 216,
   "id": "c9f1a9f7",
   "metadata": {},
   "outputs": [
    {
     "data": {
      "text/plain": [
       "100"
      ]
     },
     "execution_count": 216,
     "metadata": {},
     "output_type": "execute_result"
    }
   ],
   "source": [
    "prod_desc = []\n",
    "start = 0\n",
    "end = 3\n",
    "for page in range(start, end):\n",
    "    a = driver.find_elements(By.CLASS_NAME, 'IRpwTa')\n",
    "    for i in a[:100]:\n",
    "        prod_desc.append(i.text)\n",
    "    next =  driver.find_element(By.XPATH, '//a[@class=\"_1LKTO3\"]/span')\n",
    "    next.click() \n",
    "    time.sleep(3)\n",
    "    \n",
    "prod_desc = prod_desc[:100]\n",
    "len(prod_desc)\n"
   ]
  },
  {
   "cell_type": "code",
   "execution_count": 217,
   "id": "5f9b2a8e",
   "metadata": {},
   "outputs": [
    {
     "data": {
      "text/plain": [
       "100"
      ]
     },
     "execution_count": 217,
     "metadata": {},
     "output_type": "execute_result"
    }
   ],
   "source": [
    "price = []\n",
    "start = 0\n",
    "end = 3\n",
    "for page in range(start, end):\n",
    "    a = driver.find_elements(By.XPATH, '//div[@class=\"_25b18c\"]/div[1]')\n",
    "    for i in a[:100]:\n",
    "        price.append(i.text)\n",
    "    next =  driver.find_element(By.XPATH, '//a[@class=\"_1LKTO3\"]/span')\n",
    "    next.click() \n",
    "    time.sleep(3)\n",
    "    \n",
    "price = price[:100]\n",
    "len(price)"
   ]
  },
  {
   "cell_type": "code",
   "execution_count": 218,
   "id": "e9f0c642",
   "metadata": {},
   "outputs": [
    {
     "data": {
      "text/html": [
       "<div>\n",
       "<style scoped>\n",
       "    .dataframe tbody tr th:only-of-type {\n",
       "        vertical-align: middle;\n",
       "    }\n",
       "\n",
       "    .dataframe tbody tr th {\n",
       "        vertical-align: top;\n",
       "    }\n",
       "\n",
       "    .dataframe thead th {\n",
       "        text-align: right;\n",
       "    }\n",
       "</style>\n",
       "<table border=\"1\" class=\"dataframe\">\n",
       "  <thead>\n",
       "    <tr style=\"text-align: right;\">\n",
       "      <th></th>\n",
       "      <th>Brand</th>\n",
       "      <th>Product Description</th>\n",
       "      <th>Price</th>\n",
       "    </tr>\n",
       "  </thead>\n",
       "  <tbody>\n",
       "    <tr>\n",
       "      <th>0</th>\n",
       "      <td>BRUTON</td>\n",
       "      <td>!Combo Pack Of 2 Casual Shoes! Sneakers For Men</td>\n",
       "      <td>₹297</td>\n",
       "    </tr>\n",
       "    <tr>\n",
       "      <th>1</th>\n",
       "      <td>BRUTON</td>\n",
       "      <td>2 Combo Sneaker Shoes Sneakers For Men</td>\n",
       "      <td>₹497</td>\n",
       "    </tr>\n",
       "    <tr>\n",
       "      <th>2</th>\n",
       "      <td>URBANBOX</td>\n",
       "      <td>Shuffle Ultra Sneakers For Men</td>\n",
       "      <td>₹299</td>\n",
       "    </tr>\n",
       "    <tr>\n",
       "      <th>3</th>\n",
       "      <td>Layasa</td>\n",
       "      <td>Buzz Sneakers For Men</td>\n",
       "      <td>₹299</td>\n",
       "    </tr>\n",
       "    <tr>\n",
       "      <th>4</th>\n",
       "      <td>aadi</td>\n",
       "      <td>Sneakers For Men</td>\n",
       "      <td>₹289</td>\n",
       "    </tr>\n",
       "    <tr>\n",
       "      <th>...</th>\n",
       "      <td>...</td>\n",
       "      <td>...</td>\n",
       "      <td>...</td>\n",
       "    </tr>\n",
       "    <tr>\n",
       "      <th>95</th>\n",
       "      <td>RED TAPE</td>\n",
       "      <td>Sneaker Casual Shoes for Men | Soft Cushioned ...</td>\n",
       "      <td>₹1,275</td>\n",
       "    </tr>\n",
       "    <tr>\n",
       "      <th>96</th>\n",
       "      <td>BRUTON</td>\n",
       "      <td>Exclusive Rap &amp; Dance Shoes For Boys Sneakers ...</td>\n",
       "      <td>₹1,187</td>\n",
       "    </tr>\n",
       "    <tr>\n",
       "      <th>97</th>\n",
       "      <td>BRUTON</td>\n",
       "      <td>Synthetic Leather |Lightweight|Comfort|Summer|...</td>\n",
       "      <td>₹497</td>\n",
       "    </tr>\n",
       "    <tr>\n",
       "      <th>98</th>\n",
       "      <td>U.S. POLO ASSN.</td>\n",
       "      <td>Sneakers For Men</td>\n",
       "      <td>₹1,299</td>\n",
       "    </tr>\n",
       "    <tr>\n",
       "      <th>99</th>\n",
       "      <td>asian</td>\n",
       "      <td>Sneakers For Men</td>\n",
       "      <td>₹349</td>\n",
       "    </tr>\n",
       "  </tbody>\n",
       "</table>\n",
       "<p>100 rows × 3 columns</p>\n",
       "</div>"
      ],
      "text/plain": [
       "              Brand                                Product Description   Price\n",
       "0            BRUTON    !Combo Pack Of 2 Casual Shoes! Sneakers For Men    ₹297\n",
       "1            BRUTON             2 Combo Sneaker Shoes Sneakers For Men    ₹497\n",
       "2          URBANBOX                     Shuffle Ultra Sneakers For Men    ₹299\n",
       "3            Layasa                              Buzz Sneakers For Men    ₹299\n",
       "4              aadi                                   Sneakers For Men    ₹289\n",
       "..              ...                                                ...     ...\n",
       "95         RED TAPE  Sneaker Casual Shoes for Men | Soft Cushioned ...  ₹1,275\n",
       "96           BRUTON  Exclusive Rap & Dance Shoes For Boys Sneakers ...  ₹1,187\n",
       "97           BRUTON  Synthetic Leather |Lightweight|Comfort|Summer|...    ₹497\n",
       "98  U.S. POLO ASSN.                                   Sneakers For Men  ₹1,299\n",
       "99            asian                                   Sneakers For Men    ₹349\n",
       "\n",
       "[100 rows x 3 columns]"
      ]
     },
     "execution_count": 218,
     "metadata": {},
     "output_type": "execute_result"
    }
   ],
   "source": [
    "import pandas as pd \n",
    "df = pd.DataFrame({\"Brand\":brand, \"Product Description\":prod_desc, \"Price\":price,})\n",
    "df"
   ]
  },
  {
   "cell_type": "code",
   "execution_count": 246,
   "id": "76222806",
   "metadata": {},
   "outputs": [],
   "source": [
    "#7\n",
    "import selenium\n",
    "from selenium import webdriver \n",
    "import pandas as pd \n",
    "from selenium.webdriver.common.by import By \n",
    "from selenium.webdriver.common.keys import Keys\n",
    "import warnings\n",
    "warnings.filterwarnings(\"ignore\")\n",
    "import time "
   ]
  },
  {
   "cell_type": "code",
   "execution_count": 269,
   "id": "dac8f0e3",
   "metadata": {},
   "outputs": [],
   "source": [
    "driver = webdriver.Chrome()"
   ]
  },
  {
   "cell_type": "code",
   "execution_count": 270,
   "id": "9317ebbe",
   "metadata": {},
   "outputs": [],
   "source": [
    "driver.get(\"https://www.amazon.in/\")"
   ]
  },
  {
   "cell_type": "code",
   "execution_count": 271,
   "id": "86c13634",
   "metadata": {},
   "outputs": [],
   "source": [
    "search = driver.find_element(By.XPATH,'//div[@class=\"nav-search-field \"]/input')\n",
    "search.send_keys(\"Laptop\")\n",
    "search.send_keys(Keys.ENTER)"
   ]
  },
  {
   "cell_type": "code",
   "execution_count": 272,
   "id": "3997be42",
   "metadata": {},
   "outputs": [],
   "source": [
    "filter_checkbox = driver.find_element(By.LINK_TEXT, 'Intel Core i7')\n",
    "filter_checkbox.click()"
   ]
  },
  {
   "cell_type": "code",
   "execution_count": 273,
   "id": "2adee205",
   "metadata": {},
   "outputs": [
    {
     "data": {
      "text/plain": [
       "['HP Laptop 15s, 12th Gen Intel Core i7-1255U, 15.6-inch (39.6 cm), FHD, 16GB DDR4, 512GB SSD, Intel Iris Xe Graphics, Backlit KB, Thin & Light (Win 11, MSO 2021, Silver, 1.69 kg), fq5190TU',\n",
       " 'MSI Modern 14, Intel 12th Gen. i7-1255U, 36CM FHD 60Hz Laptop (16GB/512GB NVMe SSD/Windows 11 Home/Intel Iris Xe Graphics/Classic Black/1.4Kg), C12M-459IN',\n",
       " 'Lenovo IdeaPad Slim 3 Intel Core i7 11th Gen 15.6\" (39.62cm) FHD Laptop (16GB/512GB SSD/Win 11/Office 2021/1 Year Warranty/Arctic Grey/1.65Kg), 82H803LPIN',\n",
       " 'ASUS TUF Gaming F15, 15.6\"(39.62 cms) FHD 144Hz, Intel Core i7-11800H 11th Gen, 4GB NVIDIA GeForce RTX 3050 Ti, Gaming Laptop (16GB/1TB SSD/Win 11/MSO/90WHrs Battery/Black/2.30 Kg), FX506HE-HN385WS',\n",
       " 'MSI GF63 Thin, Intel Core i7-11800H, 40CM FHD 144Hz Gaming Laptop (8GBx2/512GB NVMe SSD/Windows 11 Home/Nvidia GeForce RTX 3050, GDDR6 4GB/Black/1.8Kg), 11UC-1293IN',\n",
       " 'ASUS Vivobook 15, Intel Core i7-12650H 12th Gen, 15.6\" (39.62 cm) FHD, Thin and Light Laptop (16GB/512GB/Win11/Office 2021/Blue/1.7 kg), X1502ZA-EJ741WS',\n",
       " 'ASUS TUF Gaming F15, 15.6-inch (39.62 cms) FHD 144Hz, Intel Core i7-12700H 12th Gen, 4GB NVIDIA GeForce RTX 3050, Gaming Laptop (16GB/1TB SSD/Windows 11/90WHrs Battery/Gray/2.20 Kg), FX577ZC-HN192W',\n",
       " 'Acer Aspire Lite Premium Metal Laptop 11th Gen Intel Core Ci7-1165G7 Thin and Light Laptop (Windows 11 Home/16GB RAM/1TB SSD/MS Office) AL15-51, 39.62cm (15.6\") Full HD Display, Steel Gray, 1.59 KG',\n",
       " 'Dell Inspiron 5430 Laptop, Intel Core i7-1360P Processor/ 16GB/ 1TB SSD/14.0\" (35.56cm) FHD+ WVA AG with Comfortview 250 nits/Backlit KB + FPR/Win 11 + MSO\\'21/15 Month McAfee/Platinum Silver/ 1.59kg',\n",
       " 'HP Victus Gaming Laptop, 12th Gen Intel Core i7-12650H, NVIDIA RTX 3050 GPU, 15.6-inch (39.6 cm), 75W TGP , FHD, IPS, 144Hz, 9 ms Response time, 16GB DDR4, 512GB SSD (MSO, Blue, 2.29 kg), fa0188TX']"
      ]
     },
     "execution_count": 273,
     "metadata": {},
     "output_type": "execute_result"
    }
   ],
   "source": [
    "title = []\n",
    "a = driver.find_elements(By.XPATH,'//div[@class=\"a-section a-spacing-none puis-padding-right-small s-title-instructions-style\"]/h2')\n",
    "for i in a[:10]:\n",
    "    b = i.text.split(\"\\n\")[0]\n",
    "    title.append(b)\n",
    "    \n",
    "title"
   ]
  },
  {
   "cell_type": "code",
   "execution_count": 274,
   "id": "c453ffde",
   "metadata": {},
   "outputs": [
    {
     "data": {
      "text/plain": [
       "['₹63,990',\n",
       " '₹78,778',\n",
       " '₹49,990',\n",
       " '₹78,990',\n",
       " '₹52,990',\n",
       " '₹79,690',\n",
       " '₹75,990',\n",
       " '₹1,04,990',\n",
       " '₹64,990',\n",
       " '₹89,990']"
      ]
     },
     "execution_count": 274,
     "metadata": {},
     "output_type": "execute_result"
    }
   ],
   "source": [
    "price = []\n",
    "a = driver.find_elements(By.CLASS_NAME, 'a-price')\n",
    "for i in a[:10]:\n",
    "    b = i.text.split(\"\\n\")[0]\n",
    "    price.append(b)\n",
    "    \n",
    "price"
   ]
  },
  {
   "cell_type": "code",
   "execution_count": 284,
   "id": "3590c0c4",
   "metadata": {},
   "outputs": [
    {
     "name": "stdout",
     "output_type": "stream",
     "text": [
      "['3.4 out of 5 stars', '3.8 out of 5 stars', '3.7 out of 5 stars', '4.2 out of 5 stars', '3.9 out of 5 stars', '3.9 out of 5 stars', '4.2 out of 5 stars', '3.5 out of 5 stars', '3.1 out of 5 stars', '4.1 out of 5 stars']\n"
     ]
    }
   ],
   "source": [
    "rating = []\n",
    "a = driver.find_elements(By.XPATH, '//i[contains(@class, \"a-icon-star-small\")]')\n",
    "for i in a[:10]:\n",
    "    b = i.get_attribute('textContent')\n",
    "    rating.append(b)\n",
    "\n",
    "print(rating)\n"
   ]
  },
  {
   "cell_type": "code",
   "execution_count": 285,
   "id": "e10a10c7",
   "metadata": {},
   "outputs": [
    {
     "data": {
      "text/html": [
       "<div>\n",
       "<style scoped>\n",
       "    .dataframe tbody tr th:only-of-type {\n",
       "        vertical-align: middle;\n",
       "    }\n",
       "\n",
       "    .dataframe tbody tr th {\n",
       "        vertical-align: top;\n",
       "    }\n",
       "\n",
       "    .dataframe thead th {\n",
       "        text-align: right;\n",
       "    }\n",
       "</style>\n",
       "<table border=\"1\" class=\"dataframe\">\n",
       "  <thead>\n",
       "    <tr style=\"text-align: right;\">\n",
       "      <th></th>\n",
       "      <th>Title</th>\n",
       "      <th>Price</th>\n",
       "      <th>Rating</th>\n",
       "    </tr>\n",
       "  </thead>\n",
       "  <tbody>\n",
       "    <tr>\n",
       "      <th>0</th>\n",
       "      <td>HP Laptop 15s, 12th Gen Intel Core i7-1255U, 1...</td>\n",
       "      <td>₹63,990</td>\n",
       "      <td>3.4 out of 5 stars</td>\n",
       "    </tr>\n",
       "    <tr>\n",
       "      <th>1</th>\n",
       "      <td>MSI Modern 14, Intel 12th Gen. i7-1255U, 36CM ...</td>\n",
       "      <td>₹78,778</td>\n",
       "      <td>3.8 out of 5 stars</td>\n",
       "    </tr>\n",
       "    <tr>\n",
       "      <th>2</th>\n",
       "      <td>Lenovo IdeaPad Slim 3 Intel Core i7 11th Gen 1...</td>\n",
       "      <td>₹49,990</td>\n",
       "      <td>3.7 out of 5 stars</td>\n",
       "    </tr>\n",
       "    <tr>\n",
       "      <th>3</th>\n",
       "      <td>ASUS TUF Gaming F15, 15.6\"(39.62 cms) FHD 144H...</td>\n",
       "      <td>₹78,990</td>\n",
       "      <td>4.2 out of 5 stars</td>\n",
       "    </tr>\n",
       "    <tr>\n",
       "      <th>4</th>\n",
       "      <td>MSI GF63 Thin, Intel Core i7-11800H, 40CM FHD ...</td>\n",
       "      <td>₹52,990</td>\n",
       "      <td>3.9 out of 5 stars</td>\n",
       "    </tr>\n",
       "    <tr>\n",
       "      <th>5</th>\n",
       "      <td>ASUS Vivobook 15, Intel Core i7-12650H 12th Ge...</td>\n",
       "      <td>₹79,690</td>\n",
       "      <td>3.9 out of 5 stars</td>\n",
       "    </tr>\n",
       "    <tr>\n",
       "      <th>6</th>\n",
       "      <td>ASUS TUF Gaming F15, 15.6-inch (39.62 cms) FHD...</td>\n",
       "      <td>₹75,990</td>\n",
       "      <td>4.2 out of 5 stars</td>\n",
       "    </tr>\n",
       "    <tr>\n",
       "      <th>7</th>\n",
       "      <td>Acer Aspire Lite Premium Metal Laptop 11th Gen...</td>\n",
       "      <td>₹1,04,990</td>\n",
       "      <td>3.5 out of 5 stars</td>\n",
       "    </tr>\n",
       "    <tr>\n",
       "      <th>8</th>\n",
       "      <td>Dell Inspiron 5430 Laptop, Intel Core i7-1360P...</td>\n",
       "      <td>₹64,990</td>\n",
       "      <td>3.1 out of 5 stars</td>\n",
       "    </tr>\n",
       "    <tr>\n",
       "      <th>9</th>\n",
       "      <td>HP Victus Gaming Laptop, 12th Gen Intel Core i...</td>\n",
       "      <td>₹89,990</td>\n",
       "      <td>4.1 out of 5 stars</td>\n",
       "    </tr>\n",
       "  </tbody>\n",
       "</table>\n",
       "</div>"
      ],
      "text/plain": [
       "                                               Title      Price  \\\n",
       "0  HP Laptop 15s, 12th Gen Intel Core i7-1255U, 1...    ₹63,990   \n",
       "1  MSI Modern 14, Intel 12th Gen. i7-1255U, 36CM ...    ₹78,778   \n",
       "2  Lenovo IdeaPad Slim 3 Intel Core i7 11th Gen 1...    ₹49,990   \n",
       "3  ASUS TUF Gaming F15, 15.6\"(39.62 cms) FHD 144H...    ₹78,990   \n",
       "4  MSI GF63 Thin, Intel Core i7-11800H, 40CM FHD ...    ₹52,990   \n",
       "5  ASUS Vivobook 15, Intel Core i7-12650H 12th Ge...    ₹79,690   \n",
       "6  ASUS TUF Gaming F15, 15.6-inch (39.62 cms) FHD...    ₹75,990   \n",
       "7  Acer Aspire Lite Premium Metal Laptop 11th Gen...  ₹1,04,990   \n",
       "8  Dell Inspiron 5430 Laptop, Intel Core i7-1360P...    ₹64,990   \n",
       "9  HP Victus Gaming Laptop, 12th Gen Intel Core i...    ₹89,990   \n",
       "\n",
       "               Rating  \n",
       "0  3.4 out of 5 stars  \n",
       "1  3.8 out of 5 stars  \n",
       "2  3.7 out of 5 stars  \n",
       "3  4.2 out of 5 stars  \n",
       "4  3.9 out of 5 stars  \n",
       "5  3.9 out of 5 stars  \n",
       "6  4.2 out of 5 stars  \n",
       "7  3.5 out of 5 stars  \n",
       "8  3.1 out of 5 stars  \n",
       "9  4.1 out of 5 stars  "
      ]
     },
     "execution_count": 285,
     "metadata": {},
     "output_type": "execute_result"
    }
   ],
   "source": [
    "import pandas as pd \n",
    "df = pd.DataFrame({\"Title\":title, \"Price\":price, \"Rating\":rating})\n",
    "df"
   ]
  },
  {
   "cell_type": "code",
   "execution_count": 1,
   "id": "e0f4c619",
   "metadata": {},
   "outputs": [],
   "source": [
    "#8\n",
    "import selenium\n",
    "from selenium import webdriver \n",
    "import pandas as pd \n",
    "from selenium.webdriver.common.by import By \n",
    "from selenium.webdriver.common.keys import Keys\n",
    "import warnings\n",
    "warnings.filterwarnings(\"ignore\")\n",
    "import time "
   ]
  },
  {
   "cell_type": "code",
   "execution_count": 2,
   "id": "0ca700f8",
   "metadata": {},
   "outputs": [],
   "source": [
    "driver = webdriver.Chrome()"
   ]
  },
  {
   "cell_type": "code",
   "execution_count": 3,
   "id": "2a76403e",
   "metadata": {},
   "outputs": [],
   "source": [
    "driver.get(\"https://www.azquotes.com/\")"
   ]
  },
  {
   "cell_type": "code",
   "execution_count": 5,
   "id": "f890396e",
   "metadata": {},
   "outputs": [],
   "source": [
    "filter_checkbox = driver.find_element(By.LINK_TEXT, 'TOP QUOTES')\n",
    "filter_checkbox.click()"
   ]
  },
  {
   "cell_type": "code",
   "execution_count": 8,
   "id": "ea979493",
   "metadata": {},
   "outputs": [
    {
     "data": {
      "text/plain": [
       "1000"
      ]
     },
     "execution_count": 8,
     "metadata": {},
     "output_type": "execute_result"
    }
   ],
   "source": [
    "title = []\n",
    "start = 0\n",
    "end = 10\n",
    "for page in range(start, end):\n",
    "    a = driver.find_elements(By.XPATH, '//div[@class=\"wrap-block\"]/p/a[2]')\n",
    "    for i in a:\n",
    "        title.append(i.text)\n",
    "    next =  driver.find_elements(By.CLASS_NAME, 'next')\n",
    "    time.sleep(3)\n",
    "    \n",
    "title = title[:1000]\n",
    "len(title)"
   ]
  },
  {
   "cell_type": "code",
   "execution_count": 9,
   "id": "64d462f4",
   "metadata": {},
   "outputs": [
    {
     "data": {
      "text/plain": [
       "1000"
      ]
     },
     "execution_count": 9,
     "metadata": {},
     "output_type": "execute_result"
    }
   ],
   "source": [
    "author = []\n",
    "start = 0\n",
    "end = 10\n",
    "for page in range(start, end):\n",
    "    a = driver.find_elements(By.CLASS_NAME, 'author')\n",
    "    for i in a:\n",
    "        author.append(i.text)\n",
    "    next =  driver.find_elements(By.CLASS_NAME, 'next')\n",
    "    time.sleep(3)\n",
    "    \n",
    "author = author[:1000]\n",
    "len(author)"
   ]
  },
  {
   "cell_type": "code",
   "execution_count": 10,
   "id": "b0fc7939",
   "metadata": {},
   "outputs": [
    {
     "data": {
      "text/plain": [
       "1000"
      ]
     },
     "execution_count": 10,
     "metadata": {},
     "output_type": "execute_result"
    }
   ],
   "source": [
    "typeofqoute = []\n",
    "start = 0\n",
    "end = 10\n",
    "for page in range(start, end):\n",
    "    a = driver.find_elements(By.CLASS_NAME, 'tags')\n",
    "    for i in a:\n",
    "        typeofqoute.append(i.text)\n",
    "    next =  driver.find_elements(By.CLASS_NAME, 'next')\n",
    "    time.sleep(3)\n",
    "    \n",
    "typeofqoute = typeofqoute[:1000]\n",
    "len(typeofqoute)"
   ]
  },
  {
   "cell_type": "code",
   "execution_count": 11,
   "id": "628ea1a8",
   "metadata": {},
   "outputs": [
    {
     "data": {
      "text/html": [
       "<div>\n",
       "<style scoped>\n",
       "    .dataframe tbody tr th:only-of-type {\n",
       "        vertical-align: middle;\n",
       "    }\n",
       "\n",
       "    .dataframe tbody tr th {\n",
       "        vertical-align: top;\n",
       "    }\n",
       "\n",
       "    .dataframe thead th {\n",
       "        text-align: right;\n",
       "    }\n",
       "</style>\n",
       "<table border=\"1\" class=\"dataframe\">\n",
       "  <thead>\n",
       "    <tr style=\"text-align: right;\">\n",
       "      <th></th>\n",
       "      <th>Title</th>\n",
       "      <th>Author</th>\n",
       "      <th>Type of qoute</th>\n",
       "    </tr>\n",
       "  </thead>\n",
       "  <tbody>\n",
       "    <tr>\n",
       "      <th>0</th>\n",
       "      <td>The essence of strategy is choosing what not t...</td>\n",
       "      <td>Michael Porter</td>\n",
       "      <td>Essence, Deep Thought, Transcendentalism</td>\n",
       "    </tr>\n",
       "    <tr>\n",
       "      <th>1</th>\n",
       "      <td>One cannot and must not try to erase the past ...</td>\n",
       "      <td>Golda Meir</td>\n",
       "      <td>Inspiration, Past, Trying</td>\n",
       "    </tr>\n",
       "    <tr>\n",
       "      <th>2</th>\n",
       "      <td>Patriotism means to stand by the country. It d...</td>\n",
       "      <td>Theodore Roosevelt</td>\n",
       "      <td>Country, Peace, War</td>\n",
       "    </tr>\n",
       "    <tr>\n",
       "      <th>3</th>\n",
       "      <td>Death is something inevitable. When a man has ...</td>\n",
       "      <td>Nelson Mandela</td>\n",
       "      <td>Inspirational, Motivational, Death</td>\n",
       "    </tr>\n",
       "    <tr>\n",
       "      <th>4</th>\n",
       "      <td>You have to love a nation that celebrates its ...</td>\n",
       "      <td>Erma Bombeck</td>\n",
       "      <td>4th Of July, Food, Patriotic</td>\n",
       "    </tr>\n",
       "    <tr>\n",
       "      <th>...</th>\n",
       "      <td>...</td>\n",
       "      <td>...</td>\n",
       "      <td>...</td>\n",
       "    </tr>\n",
       "    <tr>\n",
       "      <th>995</th>\n",
       "      <td>When the going gets weird, the weird turn pro.</td>\n",
       "      <td>Hunter S. Thompson</td>\n",
       "      <td>Music, Sports, Hunting</td>\n",
       "    </tr>\n",
       "    <tr>\n",
       "      <th>996</th>\n",
       "      <td>When a train goes through a tunnel and it gets...</td>\n",
       "      <td>Corrie Ten Boom</td>\n",
       "      <td>Trust, Encouraging, Uplifting</td>\n",
       "    </tr>\n",
       "    <tr>\n",
       "      <th>997</th>\n",
       "      <td>If you think you are too small to make a diffe...</td>\n",
       "      <td>Dalai Lama</td>\n",
       "      <td>Inspirational, Funny, Change</td>\n",
       "    </tr>\n",
       "    <tr>\n",
       "      <th>998</th>\n",
       "      <td>God doesn't require us to succeed, he only req...</td>\n",
       "      <td>Mother Teresa</td>\n",
       "      <td>Success, God, Mother</td>\n",
       "    </tr>\n",
       "    <tr>\n",
       "      <th>999</th>\n",
       "      <td>Change your thoughts and you change your world.</td>\n",
       "      <td>Norman Vincent Peale</td>\n",
       "      <td>Inspirational, Motivational, Change</td>\n",
       "    </tr>\n",
       "  </tbody>\n",
       "</table>\n",
       "<p>1000 rows × 3 columns</p>\n",
       "</div>"
      ],
      "text/plain": [
       "                                                 Title                Author  \\\n",
       "0    The essence of strategy is choosing what not t...        Michael Porter   \n",
       "1    One cannot and must not try to erase the past ...            Golda Meir   \n",
       "2    Patriotism means to stand by the country. It d...    Theodore Roosevelt   \n",
       "3    Death is something inevitable. When a man has ...        Nelson Mandela   \n",
       "4    You have to love a nation that celebrates its ...          Erma Bombeck   \n",
       "..                                                 ...                   ...   \n",
       "995     When the going gets weird, the weird turn pro.    Hunter S. Thompson   \n",
       "996  When a train goes through a tunnel and it gets...       Corrie Ten Boom   \n",
       "997  If you think you are too small to make a diffe...            Dalai Lama   \n",
       "998  God doesn't require us to succeed, he only req...         Mother Teresa   \n",
       "999    Change your thoughts and you change your world.  Norman Vincent Peale   \n",
       "\n",
       "                                Type of qoute  \n",
       "0    Essence, Deep Thought, Transcendentalism  \n",
       "1                   Inspiration, Past, Trying  \n",
       "2                         Country, Peace, War  \n",
       "3          Inspirational, Motivational, Death  \n",
       "4                4th Of July, Food, Patriotic  \n",
       "..                                        ...  \n",
       "995                    Music, Sports, Hunting  \n",
       "996             Trust, Encouraging, Uplifting  \n",
       "997              Inspirational, Funny, Change  \n",
       "998                      Success, God, Mother  \n",
       "999       Inspirational, Motivational, Change  \n",
       "\n",
       "[1000 rows x 3 columns]"
      ]
     },
     "execution_count": 11,
     "metadata": {},
     "output_type": "execute_result"
    }
   ],
   "source": [
    "import pandas as pd \n",
    "df = pd.DataFrame({\"Title\":title, \"Author\":author, \"Type of qoute\":typeofqoute})\n",
    "df"
   ]
  },
  {
   "cell_type": "code",
   "execution_count": 12,
   "id": "327b6491",
   "metadata": {},
   "outputs": [],
   "source": [
    "#9\n",
    "import selenium\n",
    "from selenium import webdriver \n",
    "import pandas as pd \n",
    "from selenium.webdriver.common.by import By \n",
    "from selenium.webdriver.common.keys import Keys\n",
    "import warnings\n",
    "warnings.filterwarnings(\"ignore\")\n",
    "import time "
   ]
  },
  {
   "cell_type": "code",
   "execution_count": 13,
   "id": "c80ccec9",
   "metadata": {},
   "outputs": [],
   "source": [
    "driver = webdriver.Chrome()"
   ]
  },
  {
   "cell_type": "code",
   "execution_count": 14,
   "id": "9b0925da",
   "metadata": {},
   "outputs": [],
   "source": [
    "driver.get(\"https://www.jagranjosh.com/\")"
   ]
  },
  {
   "cell_type": "code",
   "execution_count": 15,
   "id": "9e632d5e",
   "metadata": {},
   "outputs": [],
   "source": [
    "filter_checkbox = driver.find_element(By.LINK_TEXT, 'GK')\n",
    "filter_checkbox.click()"
   ]
  },
  {
   "cell_type": "code",
   "execution_count": 16,
   "id": "09ca745e",
   "metadata": {},
   "outputs": [],
   "source": [
    "filter_checkbox = driver.find_element(By.LINK_TEXT, 'List of all Prime Ministers of India')\n",
    "filter_checkbox.click()"
   ]
  },
  {
   "cell_type": "code",
   "execution_count": 19,
   "id": "0915d4b6",
   "metadata": {},
   "outputs": [
    {
     "data": {
      "text/plain": [
       "[[],\n",
       " ['1.',\n",
       "  'Jawahar Lal Nehru',\n",
       "  '(1889–1964)',\n",
       "  '15 August 1947 to 27 May 1964\\n16 years, 286 days',\n",
       "  'The first prime minister of India and the longest-serving PM of India, the first to die in office.'],\n",
       " ['2.',\n",
       "  'Gulzarilal Nanda (Acting)',\n",
       "  '(1898-1998)',\n",
       "  '27 May 1964 to 9 June 1964,\\n13 days',\n",
       "  'First acting PM of India'],\n",
       " ['3.',\n",
       "  'Lal Bahadur Shastri',\n",
       "  '(1904–1966)',\n",
       "  '9 June 1964 to 11 January 1966\\n1 year, 216 days',\n",
       "  \"He has given the slogan of 'Jai Jawan Jai Kisan' during the Indo-Pak war of 1965\"],\n",
       " ['4. ',\n",
       "  'Gulzari Lal Nanda  (Acting)',\n",
       "  '(1898-1998)',\n",
       "  '11 January 1966 to 24 January 1966\\n13 days',\n",
       "  '-'],\n",
       " ['5.',\n",
       "  'Indira Gandhi',\n",
       "  '(1917–1984)',\n",
       "  '24 January 1966 to 24 March 1977\\n11 years, 59 days',\n",
       "  'First female Prime Minister of India'],\n",
       " ['6.',\n",
       "  'Morarji Desai',\n",
       "  '(1896–1995)',\n",
       "  '24 March 1977 to  28 July 1979 \\n2 year, 126 days',\n",
       "  'Oldest to become PM (81 years old) and first to resign from office'],\n",
       " ['7.',\n",
       "  'Charan Singh',\n",
       "  '(1902–1987)',\n",
       "  '28 July 1979 to 14 January 1980\\n170 days',\n",
       "  'Only PM who did not face the Parliament'],\n",
       " ['8.',\n",
       "  'Indira Gandhi',\n",
       "  '(1917–1984)',\n",
       "  '14 January 1980 to 31 October 1984\\n4 years, 291 days',\n",
       "  'The first lady who served as PM for the second term'],\n",
       " ['9.',\n",
       "  'Rajiv Gandhi',\n",
       "  '(1944–1991)',\n",
       "  '31 October 1984 to 2 December 1989\\n5 years, 32 days',\n",
       "  'Youngest to become PM (40 years old)'],\n",
       " ['10.',\n",
       "  'V. P. Singh',\n",
       "  '(1931–2008)',\n",
       "  '2 December 1989 to 10 November 1990\\n343 days',\n",
       "  'First PM to step down after a vote of no confidence'],\n",
       " ['11.',\n",
       "  'Chandra Shekhar',\n",
       "  '(1927–2007)',\n",
       "  '10 November 1990 to 21 June 1991\\n223 days',\n",
       "  'He belongs to  Samajwadi Janata Party'],\n",
       " ['12.',\n",
       "  'P. V. Narasimha Rao',\n",
       "  '(1921–2004)',\n",
       "  '21 June 1991 to 16 May 1996\\n4 years, 330 days',\n",
       "  'First PM from South India'],\n",
       " ['13.',\n",
       "  'Atal Bihari Vajpayee',\n",
       "  '(1924- 2018)',\n",
       "  '16 May 1996 to 1 June 1996\\n16 days',\n",
       "  'PM for shortest tenure'],\n",
       " ['14.',\n",
       "  'H. D. Deve Gowda',\n",
       "  '(born 1933)',\n",
       "  '1 June 1996 to 21 April 1997\\n324 days',\n",
       "  'He belongs to  Janata Dal'],\n",
       " ['15.',\n",
       "  'Inder Kumar Gujral',\n",
       "  '(1919–2012)',\n",
       "  '21 April 1997 to 19 March 1998 \\n332 days',\n",
       "  '------'],\n",
       " ['16.',\n",
       "  'Atal Bihari Vajpayee',\n",
       "  '(1924-2018)',\n",
       "  '19 March 1998 to 22 May 2004 \\n6 years, 64 days',\n",
       "  ' The first non-congress PM who completed a full term as PM'],\n",
       " ['17.',\n",
       "  'Manmohan Singh',\n",
       "  '(born 1932)',\n",
       "  '22 May 2004 to 26 May 2014   \\n10 years, 4 days',\n",
       "  ' First Sikh PM'],\n",
       " ['18.',\n",
       "  'Narendra Modi',\n",
       "  '(born 1950)',\n",
       "  '26 May 2014 - 2019',\n",
       "  '4th Prime Minister of India who served two consecutive tenures'],\n",
       " ['19.',\n",
       "  'Narendra Modi',\n",
       "  '(born 1950)',\n",
       "  '30 May 2019- Incumbent',\n",
       "  'First non-congress PM with two consecutive tenures']]"
      ]
     },
     "execution_count": 19,
     "metadata": {},
     "output_type": "execute_result"
    }
   ],
   "source": [
    "table = driver.find_element(By.XPATH,'/html/body/div[2]/div[2]/div/div[2]/div/div[1]/div/div/div/div[4]/span/div[3]')\n",
    "\n",
    "table_data = []\n",
    "\n",
    "for row in table.find_elements(By.TAG_NAME,'tr'):\n",
    "    row_data = []\n",
    "\n",
    "    for cell in row.find_elements(By.TAG_NAME,'td'):\n",
    "        cell_data = cell.text\n",
    "        row_data.append(cell_data)\n",
    "    \n",
    "    table_data.append(row_data)\n",
    "\n",
    "table_data\n"
   ]
  },
  {
   "cell_type": "code",
   "execution_count": 53,
   "id": "727bf6cd",
   "metadata": {},
   "outputs": [],
   "source": [
    "#10\n",
    "import selenium\n",
    "from selenium import webdriver \n",
    "import pandas as pd \n",
    "from selenium.webdriver.common.by import By \n",
    "from selenium.webdriver.common.keys import Keys\n",
    "import warnings\n",
    "warnings.filterwarnings(\"ignore\")\n",
    "import time "
   ]
  },
  {
   "cell_type": "code",
   "execution_count": 54,
   "id": "68cc7ae1",
   "metadata": {},
   "outputs": [],
   "source": [
    "driver = webdriver.Chrome()"
   ]
  },
  {
   "cell_type": "code",
   "execution_count": 55,
   "id": "2895a834",
   "metadata": {},
   "outputs": [],
   "source": [
    "driver.get(\"https://www.motor1.com/\")"
   ]
  },
  {
   "cell_type": "code",
   "execution_count": 56,
   "id": "7d15bac8",
   "metadata": {},
   "outputs": [],
   "source": [
    "search = driver.find_element(By.XPATH,'//form[@class=\"m1-search-form\"]/input')\n",
    "search.send_keys(\"50 most expensive cars\")\n",
    "search.send_keys(Keys.ENTER)"
   ]
  },
  {
   "cell_type": "code",
   "execution_count": 57,
   "id": "71bddc89",
   "metadata": {},
   "outputs": [],
   "source": [
    "filter_checkbox = driver.find_element(By.LINK_TEXT, '50 Most Expensive Cars In The World')\n",
    "filter_checkbox.click()"
   ]
  },
  {
   "cell_type": "code",
   "execution_count": 93,
   "id": "30237a85",
   "metadata": {},
   "outputs": [
    {
     "data": {
      "text/plain": [
       "[['Aston Martin Valour - $1.5 Million',\n",
       "  'Mclaren Elva - $1.7 Million',\n",
       "  'Czinger 21C - $1.7 Million',\n",
       "  'Ferrari Monza - $1.7 Million',\n",
       "  'Gordon Murray T.33 - $1.7 Million',\n",
       "  'Koenigsegg Gemera - $1.7 Million',\n",
       "  'McLaren Elva - $1.7 Million',\n",
       "  'Zenvo TSR-S - $1.7 Million',\n",
       "  'Hennessey Venom F5 - $1.8 Million',\n",
       "  'Bentley Bacalar - $1.9 Million',\n",
       "  'Hispano Suiza Carmen Boulogne: $1.9 Million',\n",
       "  'Bentley Mulliner Batur: $2.0 Million',\n",
       "  'Deus Vayanne: $2.0 Million',\n",
       "  'SSC Tuatara - $2.0 Million',\n",
       "  'Lotus Evija - $2.1 Million',\n",
       "  'Aston Martin Vulcan - $2.3 Million',\n",
       "  'Delage D12 - $2.3 Million',\n",
       "  'Ferrari Daytona SP3 - $2.3 Million',\n",
       "  'McLaren Speedtail - $2.3 Million',\n",
       "  'Rimac Nevera - $2.4 Million',\n",
       "  'Pagani Utopia: $2.5 Million',\n",
       "  'Pininfarina Battista - $2.5 Million',\n",
       "  'Gordon Murray T.50 - $2.6 Million',\n",
       "  'Lamborghini Countach - $2.6 Million',\n",
       "  'Mercedes-AMG Project One - $2.7 Million',\n",
       "  'Zenvo Aurora - $2.8 Million',\n",
       "  'Aston Martin Victor - $3.0 Million',\n",
       "  'Hennessey Venom F5 Roadster: $3.0 Million',\n",
       "  'Koenigsegg Jesko - $3.0 Million',\n",
       "  'Aston Martin Valkyrie - $3.2 Million',\n",
       "  'W Motors Lykan Hypersport - $3.4 Million',\n",
       "  'McLaren Solus: $3.5 Million',\n",
       "  'Lamborghini Sian - $3.6 million',\n",
       "  'Koenigsegg CC850: $3.7 Million',\n",
       "  'Bugatti Chiron Super Sport 300+ - $3.9 Million',\n",
       "  'Lamborghini Veneno - $4.5 Million',\n",
       "  'Bugatti Bolide - $4.7 Million',\n",
       "  'Pininfarina B95 Speedster - $4.8 Million',\n",
       "  'Bugatti Mistral: $5.0 Million',\n",
       "  'Pagani Huayra Imola – $5.4 Million',\n",
       "  'Bugatti Divo - $5.8 Million',\n",
       "  'SP Automotive Chaos - $6.4 Million',\n",
       "  'Pagani Codalunga: $7.4 Million',\n",
       "  '777 Hypercar - $7.5 Million',\n",
       "  'Mercedes-Maybach Exelero - $8.0 Million',\n",
       "  'Bugatti Centodieci - $9.0 Million',\n",
       "  'Rolls-Royce Sweptail - $12.8 Million',\n",
       "  'Bugatti La Voiture Noire - $13.4 Million',\n",
       "  'Rolls-Royce Boat Tail - $28.0 Million*',\n",
       "  'Rolls-Royce La Rose Noire Droptail - $30.0 Million*']]"
      ]
     },
     "execution_count": 93,
     "metadata": {},
     "output_type": "execute_result"
    }
   ],
   "source": [
    "result = []\n",
    "price = [] \n",
    "car_name = [] \n",
    "final = []\n",
    "\n",
    "li_elements = driver.find_elements(By.XPATH, '/html/body/div[10]/div[7]/div[2]/div[1]/div[2]/div[2]/ul')\n",
    "\n",
    "for ul in li_elements:\n",
    "    a = ul.text.split(\"\\n\")\n",
    "    result.append(a) \n",
    "\n",
    "result\n",
    "\n"
   ]
  },
  {
   "cell_type": "code",
   "execution_count": null,
   "id": "bce0a586",
   "metadata": {},
   "outputs": [],
   "source": []
  }
 ],
 "metadata": {
  "kernelspec": {
   "display_name": "Python 3 (ipykernel)",
   "language": "python",
   "name": "python3"
  },
  "language_info": {
   "codemirror_mode": {
    "name": "ipython",
    "version": 3
   },
   "file_extension": ".py",
   "mimetype": "text/x-python",
   "name": "python",
   "nbconvert_exporter": "python",
   "pygments_lexer": "ipython3",
   "version": "3.10.9"
  }
 },
 "nbformat": 4,
 "nbformat_minor": 5
}
