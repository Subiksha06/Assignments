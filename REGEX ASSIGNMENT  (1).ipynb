{
 "cells": [
  {
   "cell_type": "code",
   "execution_count": 1,
   "id": "8e80d12b",
   "metadata": {},
   "outputs": [],
   "source": [
    "import regex as re "
   ]
  },
  {
   "cell_type": "code",
   "execution_count": 2,
   "id": "6396dedb",
   "metadata": {},
   "outputs": [
    {
     "name": "stdout",
     "output_type": "stream",
     "text": [
      "Python:Exercises::PHP:exercises:\n",
      "happy:excited\n"
     ]
    }
   ],
   "source": [
    "#1\n",
    "text = \"Python Exercises, PHP exercises.\"\n",
    "str = \"happy excited\"\n",
    "pattern = r\"[.,\\s+]\" \n",
    "result = re.sub(pattern,\":\",text)\n",
    "result1 = re.sub(pattern,\":\",str)\n",
    "print(result)\n",
    "print(result1)"
   ]
  },
  {
   "cell_type": "code",
   "execution_count": 3,
   "id": "8f940b99",
   "metadata": {},
   "outputs": [
    {
     "name": "stdout",
     "output_type": "stream",
     "text": [
      "['anna ', 'agerly ', 'awaited ', 'an ', 'adventure ', ' enchanted']\n",
      "['apples ', 'are ', ' eat', 'are ']\n"
     ]
    }
   ],
   "source": [
    "#2\n",
    "text = \"anna eagerly awaited an exciting adventure in the enchanted forest.\"\n",
    "text1 = \"apples are recommended by doctors to eat when we are sick\"\n",
    "pattern = r\"a\\w+ | e\\w+\" \n",
    "match = re.findall(pattern, text)\n",
    "match1 = re.findall(pattern, text1)\n",
    "print(match)\n",
    "print(match1)"
   ]
  },
  {
   "cell_type": "code",
   "execution_count": 4,
   "id": "b3d6eafb",
   "metadata": {},
   "outputs": [
    {
     "name": "stdout",
     "output_type": "stream",
     "text": [
      "anna\n",
      "eagerly\n",
      "awaited\n",
      "exciting\n",
      "adventure\n",
      "enchanted\n",
      "forest\n"
     ]
    }
   ],
   "source": [
    "#3\n",
    "text = \"anna eagerly awaited an exciting adventure in the enchanted forest.\"\n",
    "pattern = r\"\\w{4,}\"\n",
    "regex = re.compile(pattern)\n",
    "matches = regex.findall(text)\n",
    "for match in matches:\n",
    "    print(match)\n",
    "\n",
    "    \n"
   ]
  },
  {
   "cell_type": "code",
   "execution_count": 5,
   "id": "31610ab3",
   "metadata": {},
   "outputs": [
    {
     "name": "stdout",
     "output_type": "stream",
     "text": [
      "The\n",
      "paint\n",
      "with\n"
     ]
    }
   ],
   "source": [
    "#4\n",
    "text = \"The artist paint a beautiful landscape with exquisite colors\"\n",
    "pattern = r\"\\b\\w{3,5}\\b\"\n",
    "regex = re.compile(pattern)\n",
    "matches = regex.findall(text)\n",
    "for match in matches:\n",
    "    print(match)"
   ]
  },
  {
   "cell_type": "code",
   "execution_count": 6,
   "id": "47e39a1b",
   "metadata": {},
   "outputs": [
    {
     "name": "stdout",
     "output_type": "stream",
     "text": [
      "example .com\n",
      "hr@fliprobo .com\n",
      "github .com\n",
      "Hello Data Science World\n",
      "Data Scientist\n"
     ]
    }
   ],
   "source": [
    "#5\n",
    "string = [\"example (.com)\", \"hr@fliprobo (.com)\", \"github (.com)\", \"Hello (Data Science World)\", \"Data (Scientist)\"]\n",
    "pattern = r\"[()]\"\n",
    "regex = re.compile(pattern)\n",
    "new_string = [regex.sub('',s) for s in string]\n",
    "for x in new_string:\n",
    "    print(x)"
   ]
  },
  {
   "cell_type": "code",
   "execution_count": 7,
   "id": "67fb3a4d",
   "metadata": {},
   "outputs": [
    {
     "name": "stdout",
     "output_type": "stream",
     "text": [
      "example \n",
      "hr@fliprobo \n",
      "github \n",
      "Hello \n",
      "Data \n"
     ]
    }
   ],
   "source": [
    "#6\n",
    "with open (r\"C:\\Users\\DELL\\Documents\\url file.txt\") as file:\n",
    "    for line in file :\n",
    "        pattern = r'\\([^)]*\\)'\n",
    "        regex = re.compile(pattern)\n",
    "        new_string = [regex.sub('',s) for s in string]  \n",
    "        for x in new_string:\n",
    "            print(x)\n",
    "        \n"
   ]
  },
  {
   "cell_type": "code",
   "execution_count": 8,
   "id": "5206ca48",
   "metadata": {},
   "outputs": [
    {
     "name": "stdout",
     "output_type": "stream",
     "text": [
      "['Importance', 'Of', 'Regular', 'Expressions', 'In', 'Python']\n"
     ]
    }
   ],
   "source": [
    "#7\n",
    "text = \"ImportanceOfRegularExpressionsInPython\"\n",
    "pattern = r\"(?=[A-Z])\"\n",
    "match = re.split(pattern,text) \n",
    "filtered_result = list(filter(None, match))\n",
    "\n",
    "print(filtered_result)\n"
   ]
  },
  {
   "cell_type": "code",
   "execution_count": 9,
   "id": "5ad0888a",
   "metadata": {},
   "outputs": [
    {
     "name": "stdout",
     "output_type": "stream",
     "text": [
      "RegularExpression 1IsAn 2ImportantTopic 3InPython\n"
     ]
    }
   ],
   "source": [
    "#8\n",
    "text = \"RegularExpression1IsAn2ImportantTopic3InPython\"\n",
    "pattern = r\"(?=[0-9])\"\n",
    "regex = re.compile(pattern)\n",
    "match = regex.sub(\" \",text)\n",
    "print(match)"
   ]
  },
  {
   "cell_type": "code",
   "execution_count": 10,
   "id": "d68bb943",
   "metadata": {},
   "outputs": [
    {
     "name": "stdout",
     "output_type": "stream",
     "text": [
      " Regular Expression 1 Is An 2 Important Topic 3 In Python\n"
     ]
    }
   ],
   "source": [
    "#9 \n",
    "def newfunction(text):\n",
    "    pattern = r\"(?=[A-Z])|(?=[0-9])\"\n",
    "    regex = re.compile(pattern)\n",
    "    result = regex.sub(\" \",text)\n",
    "    return result \n",
    "    \n",
    "text = \"RegularExpression1IsAn2ImportantTopic3InPython\" \n",
    "new = newfunction(text)\n",
    "print(new)\n",
    "\n",
    "    "
   ]
  },
  {
   "cell_type": "code",
   "execution_count": 11,
   "id": "73fa6460",
   "metadata": {},
   "outputs": [
    {
     "name": "stdout",
     "output_type": "stream",
     "text": [
      "xyz@domain.com\n",
      "xyz.abc@sdomain.domain.com\n",
      "hr@fliprobo.com\n"
     ]
    }
   ],
   "source": [
    "#10 \n",
    "with open (r\"C:\\Users\\DELL\\Documents\\email file.txt\") as file:\n",
    "    for line in file:\n",
    "        pattern = \"[a-zA-Z.]+@+[a-zA-Z.]+\\w{2,}\"\n",
    "        regex = re.compile(pattern)\n",
    "        match = regex.findall(line) \n",
    "        for x in match:\n",
    "            print(x)"
   ]
  },
  {
   "cell_type": "code",
   "execution_count": 12,
   "id": "4e67deca",
   "metadata": {},
   "outputs": [
    {
     "name": "stdout",
     "output_type": "stream",
     "text": [
      "<regex.Match object; span=(0, 15), match='winter_happy123'>\n",
      "None\n",
      "<regex.Match object; span=(0, 16), match='sweater_winter45'>\n"
     ]
    }
   ],
   "source": [
    "#11 \n",
    "def newfunct(string):\n",
    "    pattern = r\"^[A-Za-z0-9_]+$\"\n",
    "    result = re.search(pattern,string) \n",
    "    return result \n",
    "\n",
    "a = \"winter_happy123\"\n",
    "b = \"@34\"\n",
    "c = \"sweater_winter45\"\n",
    "\n",
    "print(newfunct(a))\n",
    "print(newfunct(b))\n",
    "print(newfunct(c))"
   ]
  },
  {
   "cell_type": "code",
   "execution_count": 13,
   "id": "d5f2d6cb",
   "metadata": {},
   "outputs": [
    {
     "name": "stdout",
     "output_type": "stream",
     "text": [
      "<regex.Match object; span=(0, 7), match='12happy'>\n",
      "None\n",
      "<regex.Match object; span=(0, 5), match='12sad'>\n"
     ]
    }
   ],
   "source": [
    "#12 Match string that starts with 12 \n",
    "def newfunct(string):\n",
    "    pattern = r\"^12\\w+\"\n",
    "    result = re.match(pattern,string) \n",
    "    return result \n",
    "\n",
    "a = \"12happy string\"\n",
    "b = \"happy tsring\"\n",
    "c = \"12sad string\"\n",
    "\n",
    "print(newfunct(a))\n",
    "print(newfunct(b))\n",
    "print(newfunct(c))"
   ]
  },
  {
   "cell_type": "code",
   "execution_count": 14,
   "id": "c8f25f1a",
   "metadata": {},
   "outputs": [
    {
     "name": "stdout",
     "output_type": "stream",
     "text": [
      "192.3.1.45\n"
     ]
    }
   ],
   "source": [
    "#13 \n",
    "text = \"192.003.001.045\"\n",
    "pattern =r\"(\\b0+)(\\d+)\\b\"\n",
    "result = re.sub(pattern,r\"\\2\",text)\n",
    "print(result)"
   ]
  },
  {
   "cell_type": "code",
   "execution_count": 15,
   "id": "3039c6e2",
   "metadata": {},
   "outputs": [
    {
     "name": "stdout",
     "output_type": "stream",
     "text": [
      "['August 15 1947', 'October 06 2000']\n"
     ]
    }
   ],
   "source": [
    "#14 \n",
    "with open(r\"C:\\Users\\DELL\\Documents\\date file.txt\") as file:\n",
    "    for line in file:\n",
    "        pattern =r'\\b(?:January|February|March|April|May|June|July|August|September|October|November|December)\\s+\\d{1,2}\\s+\\d{4}\\b'\n",
    "        results = re.findall(pattern, line)\n",
    "        print(results) "
   ]
  },
  {
   "cell_type": "code",
   "execution_count": 16,
   "id": "ba627722",
   "metadata": {},
   "outputs": [
    {
     "name": "stdout",
     "output_type": "stream",
     "text": [
      "['quick']\n",
      "['jumps']\n",
      "['lazy']\n",
      "not found\n"
     ]
    }
   ],
   "source": [
    "#15 \n",
    "text = \"The quick brown fox jumps over the lazy dog\"\n",
    "tosearch_strings=[\"quick\",\"jumps\",\"lazy\",\"hyu\"]\n",
    "for x in tosearch_strings:\n",
    "    pattern = re.escape(x)\n",
    "    match = re.findall(pattern,text)\n",
    "    if match:\n",
    "        print(match) \n",
    "    else:\n",
    "        print(\"not found\")\n",
    "    "
   ]
  },
  {
   "cell_type": "code",
   "execution_count": 17,
   "id": "5433136a",
   "metadata": {},
   "outputs": [
    {
     "name": "stdout",
     "output_type": "stream",
     "text": [
      "<regex.Match object; span=(4, 9), match='quick'>\n",
      "<regex.Match object; span=(20, 25), match='jumps'>\n",
      "<regex.Match object; span=(35, 39), match='lazy'>\n",
      "None\n"
     ]
    }
   ],
   "source": [
    "#16\n",
    "text = \"The quick brown fox jumps over the lazy dog\"\n",
    "tosearch_strings=[\"quick\",\"jumps\",\"lazy\",\"hyu\"]\n",
    "for x in tosearch_strings:\n",
    "    pattern = re.escape(x)\n",
    "    match = re.search(pattern,text)\n",
    "    print(match)\n",
    "    \n"
   ]
  },
  {
   "cell_type": "code",
   "execution_count": 18,
   "id": "bfebe639",
   "metadata": {},
   "outputs": [
    {
     "name": "stdout",
     "output_type": "stream",
     "text": [
      "['exercises', 'exercises', 'exercises']\n"
     ]
    }
   ],
   "source": [
    "#17 \n",
    "text = 'Python exercises, PHP exercises, C# exercises'\n",
    "pattern = \"exercises\" \n",
    "match = re.findall(pattern,text)\n",
    "print(match)\n",
    "\n"
   ]
  },
  {
   "cell_type": "code",
   "execution_count": 19,
   "id": "a7c3a419",
   "metadata": {},
   "outputs": [
    {
     "name": "stdout",
     "output_type": "stream",
     "text": [
      "<regex.Match object; span=(7, 16), match='exercises'>\n",
      "<regex.Match object; span=(22, 31), match='exercises'>\n",
      "<regex.Match object; span=(36, 45), match='exercises'>\n"
     ]
    }
   ],
   "source": [
    "#18 \n",
    "text = 'Python exercises, PHP exercises, C# exercises'\n",
    "pattern = \"exercises\" \n",
    "result = re.finditer(pattern,text)\n",
    "for x in result:\n",
    "    print(x)"
   ]
  },
  {
   "cell_type": "code",
   "execution_count": 20,
   "id": "2ff04cfe",
   "metadata": {},
   "outputs": [
    {
     "name": "stdout",
     "output_type": "stream",
     "text": [
      "05-10-2023\n"
     ]
    }
   ],
   "source": [
    "#19\n",
    "text = \"2023-10-05\"\n",
    "pattern = r\"(\\d{4})-(\\d{1,2})-(\\d{1,2})\"\n",
    "result = re.sub(pattern,r\"\\3-\\2-\\1\",text)\n",
    "print(result)"
   ]
  },
  {
   "cell_type": "code",
   "execution_count": 21,
   "id": "3cd7602c",
   "metadata": {},
   "outputs": [
    {
     "name": "stdout",
     "output_type": "stream",
     "text": [
      "['01.12', '0132.12', '2.31', '145.8', '3.01', '27.25', '0.25']\n"
     ]
    }
   ],
   "source": [
    "#20 \n",
    "text = \"01.12 0132.123 2.31875 145.8 3.01 27.25 0.25\"\n",
    "pattern = r\"[0-9]+\\.[0-9]{1,2}\"\n",
    "result = re.findall(pattern,text)\n",
    "print(result)"
   ]
  },
  {
   "cell_type": "code",
   "execution_count": 22,
   "id": "321b20c3",
   "metadata": {},
   "outputs": [
    {
     "name": "stdout",
     "output_type": "stream",
     "text": [
      "<regex.Match object; span=(10, 11), match='6'>\n",
      "<regex.Match object; span=(20, 21), match='5'>\n",
      "<regex.Match object; span=(34, 37), match='234'>\n"
     ]
    }
   ],
   "source": [
    "#21\n",
    "text = \"there are 6 apples, 5 mangoes and 234 grapes\"\n",
    "pattern = \"\\d+\"\n",
    "result = re.finditer(pattern,text)\n",
    "for x in result:\n",
    "    print(x)"
   ]
  },
  {
   "cell_type": "code",
   "execution_count": 23,
   "id": "3cf6418d",
   "metadata": {},
   "outputs": [
    {
     "name": "stdout",
     "output_type": "stream",
     "text": [
      "950\n"
     ]
    }
   ],
   "source": [
    "#22\n",
    "text = 'My marks in each semester are: 947, 896, 926, 524, 734, 950, 642'\n",
    "pattern = \"\\d+\"\n",
    "result = re.findall(pattern,text)\n",
    "max_var = result[0]\n",
    "for num in result:\n",
    "    if num > max_var:\n",
    "        max_var = num    \n",
    "print(max_var)\n"
   ]
  },
  {
   "cell_type": "code",
   "execution_count": 24,
   "id": "8d45f5c2",
   "metadata": {},
   "outputs": [
    {
     "name": "stdout",
     "output_type": "stream",
     "text": [
      " Regular Expression Is An Important Topic In Python\n"
     ]
    }
   ],
   "source": [
    "#23 \n",
    "text = \"RegularExpressionIsAnImportantTopicInPython\"\n",
    "pattern = r\"(?=[A-Z])\"\n",
    "result = re.sub(pattern,\" \",text)\n",
    "print(result)"
   ]
  },
  {
   "cell_type": "code",
   "execution_count": 25,
   "id": "d8d7f7d8",
   "metadata": {},
   "outputs": [
    {
     "name": "stdout",
     "output_type": "stream",
     "text": [
      "<regex.Match object; span=(0, 4), match='Slow'>\n",
      "<regex.Match object; span=(9, 15), match='Steady'>\n",
      "<regex.Match object; span=(25, 29), match='Race'>\n"
     ]
    }
   ],
   "source": [
    "#24\n",
    "text = \"Slow and Steady wins the Race\"\n",
    "pattern = r\"[A-Z]\\w+\"\n",
    "result = re.finditer(pattern,text)\n",
    "for x in result:\n",
    "    print(x)"
   ]
  },
  {
   "cell_type": "code",
   "execution_count": 26,
   "id": "9f26de98",
   "metadata": {},
   "outputs": [
    {
     "name": "stdout",
     "output_type": "stream",
     "text": [
      "This is an amazing experience\n"
     ]
    }
   ],
   "source": [
    "#25 \n",
    "text = \"This is is an amazing amazing experience\"\n",
    "pattern = r\"(\\w+)\\s+\\1\"\n",
    "result = re.sub(pattern,r\"\\1\",text)\n",
    "print(result)\n"
   ]
  },
  {
   "cell_type": "code",
   "execution_count": 27,
   "id": "c95466fa",
   "metadata": {},
   "outputs": [
    {
     "name": "stdout",
     "output_type": "stream",
     "text": [
      "not found\n"
     ]
    }
   ],
   "source": [
    "#26 \n",
    "input_str = \"This is is an amazing amazing experience $\"\n",
    "pattern = r\"\\w$\"\n",
    "if re.search(pattern,input_str):\n",
    "    print(input_str)\n",
    "else:\n",
    "    print(\"not found\")"
   ]
  },
  {
   "cell_type": "code",
   "execution_count": 28,
   "id": "a2216281",
   "metadata": {},
   "outputs": [
    {
     "name": "stdout",
     "output_type": "stream",
     "text": [
      "['#Doltiwal', '#xyzabc', '#Demonetization']\n"
     ]
    }
   ],
   "source": [
    "#27 \n",
    "text = r\"\"\"RT @kapil_kausik: #Doltiwal I mean #xyzabc is \"hurt\" by #Demonetization as the same has rendered USELESS <ed><U+00A0><U+00BD><ed><U+00B1><U+0089> \"acquired funds\" No wo\"\"\"\n",
    "pattern = r\"#\\w+\"\n",
    "result = re.findall(pattern,text)\n",
    "print(result)"
   ]
  },
  {
   "cell_type": "code",
   "execution_count": 29,
   "id": "b7630e6b",
   "metadata": {},
   "outputs": [
    {
     "name": "stdout",
     "output_type": "stream",
     "text": [
      "@Jags123456 Bharat band on 28??<ed><ed>Those who  are protesting #demonetization  are all different party leaders\n"
     ]
    }
   ],
   "source": [
    "#28 \n",
    "text = \"@Jags123456 Bharat band on 28??<ed><U+00A0><U+00BD><ed><U+00B8><U+0082>Those who  are protesting #demonetization  are all different party leaders\"\n",
    "pattern = r\"<U\\+[A-Z0-9]+>\"\n",
    "result = re.sub(pattern,\"\",text)\n",
    "print(result)"
   ]
  },
  {
   "cell_type": "code",
   "execution_count": 30,
   "id": "c319db8a",
   "metadata": {},
   "outputs": [
    {
     "name": "stdout",
     "output_type": "stream",
     "text": [
      "['12-09-19', '15-12-19']\n"
     ]
    }
   ],
   "source": [
    "#29 \n",
    "with open(r\"C:\\Users\\DELL\\Documents\\qn29.txt\")as file:\n",
    "    for line in file:\n",
    "        pattern = r\"\\d{1,2}-\\d{1,2}-\\d{1,2}\"\n",
    "        result = re.findall(pattern,line)\n",
    "        print(result)"
   ]
  },
  {
   "cell_type": "code",
   "execution_count": 31,
   "id": "1c3e19fb",
   "metadata": {},
   "outputs": [
    {
     "name": "stdout",
     "output_type": "stream",
     "text": [
      " following example creates  ArrayList  a capacity   elements. 4 elements   added   ArrayList   ArrayList  trimmed accordingly.\n"
     ]
    }
   ],
   "source": [
    "def lastfun(text):\n",
    "    pattern = r\"\\b(\\w{2,4})\\b\"\n",
    "    regex = re.compile(pattern)\n",
    "    result = regex.sub(\"\",text)\n",
    "    return result \n",
    "\n",
    "a=\"The following example creates an ArrayList with a capacity of 50 elements. 4 elements are then added to the ArrayList and the ArrayList is trimmed accordingly.\"\n",
    "print(lastfun(a))\n",
    "    "
   ]
  }
 ],
 "metadata": {
  "kernelspec": {
   "display_name": "Python 3 (ipykernel)",
   "language": "python",
   "name": "python3"
  },
  "language_info": {
   "codemirror_mode": {
    "name": "ipython",
    "version": 3
   },
   "file_extension": ".py",
   "mimetype": "text/x-python",
   "name": "python",
   "nbconvert_exporter": "python",
   "pygments_lexer": "ipython3",
   "version": "3.10.9"
  }
 },
 "nbformat": 4,
 "nbformat_minor": 5
}
